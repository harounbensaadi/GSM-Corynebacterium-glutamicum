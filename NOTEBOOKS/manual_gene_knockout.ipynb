{
 "cells": [
  {
   "cell_type": "markdown",
   "id": "891e776f",
   "metadata": {},
   "source": [
    "# Manual gene knockout\n",
    "Author: \n",
    "`Haroun Bensaadi`"
   ]
  },
  {
   "cell_type": "code",
   "execution_count": 2,
   "id": "e5cb0d0f",
   "metadata": {},
   "outputs": [],
   "source": [
    "%%capture\n",
    "%run gene_annotation.ipynb\n",
    "\n",
    "from colorama import init, Fore, Style\n",
    "from cobra import Model, Reaction\n",
    "from cobra.io import read_sbml_model\n",
    "import matplotlib.pyplot as plt\n",
    "import pandas as pd\n",
    "import numpy as np\n",
    "from math import factorial\n",
    "from itertools import combinations\n",
    "from IPython.display import display, clear_output\n",
    "from itertools import combinations\n",
    "from multiprocessing import Pool\n",
    "\n",
    "model = read_sbml_model('Files/iCGB21FR_updated.xml')"
   ]
  },
  {
   "cell_type": "markdown",
   "id": "5587add7",
   "metadata": {},
   "source": [
    "#### Case 1: optimizing for MAX growth"
   ]
  },
  {
   "cell_type": "code",
   "execution_count": 3,
   "id": "52173935",
   "metadata": {},
   "outputs": [
    {
     "name": "stdout",
     "output_type": "stream",
     "text": [
      "Growth: 0.57066 [1/h]\n",
      "Lysine: 0.189644 [mmol/gDW*h]\n"
     ]
    }
   ],
   "source": [
    "model.objective = model.reactions.Growth\n",
    "solution = model.optimize()\n",
    "initial_growth, initial_lysine = solution['Growth'], solution['DAPDC']\n",
    "print(f\"Growth: {round(initial_growth, 6)} [1/h]\")\n",
    "print(f\"Lysine: {round(initial_lysine, 6)} [mmol/gDW*h]\")"
   ]
  },
  {
   "cell_type": "markdown",
   "id": "217ab800",
   "metadata": {},
   "source": [
    "#### Case 2: optimzing for MAX lysine production"
   ]
  },
  {
   "cell_type": "code",
   "execution_count": 4,
   "id": "040daf6f",
   "metadata": {},
   "outputs": [
    {
     "name": "stdout",
     "output_type": "stream",
     "text": [
      "Growth: 0.0 [1/h]\n",
      "Lysine: 9.433333 [mmol/gDW*h]\n"
     ]
    }
   ],
   "source": [
    "model.objective = model.reactions.DAPDC\n",
    "solution = model.optimize()\n",
    "initial_growth, initial_lysine = solution['Growth'], solution['DAPDC']\n",
    "print(f\"Growth: {round(initial_growth, 6)} [1/h]\")\n",
    "print(f\"Lysine: {round(initial_lysine, 6)} [mmol/gDW*h]\")"
   ]
  },
  {
   "cell_type": "markdown",
   "id": "0b1da103",
   "metadata": {},
   "source": [
    "#### Case 3: optimizing for 80% of the MAX growth"
   ]
  },
  {
   "cell_type": "code",
   "execution_count": 5,
   "id": "65290261",
   "metadata": {},
   "outputs": [
    {
     "name": "stdout",
     "output_type": "stream",
     "text": [
      "Growth: 0.456528 [1/h]\n",
      "Lysine: 2.915678 [mmol/gDW*h]\n"
     ]
    }
   ],
   "source": [
    "model.objective = model.reactions.DAPDC\n",
    "\n",
    "max_growth = 0.57066\n",
    "\n",
    "model.reactions.Growth.bounds = (max_growth*0.8, 1000)\n",
    "solution = model.optimize()\n",
    "\n",
    "print(f\"Growth: {round(solution['Growth'], 6)} [1/h]\")\n",
    "print(f\"Lysine: {round(solution['DAPDC'], 6)} [mmol/gDW*h]\")"
   ]
  },
  {
   "cell_type": "markdown",
   "id": "3054771f",
   "metadata": {},
   "source": [
    "As it can be seen from the previous three cases, there is a tradeoff relationship between growth and the production of lysine:\n",
    "- Maximizing for growth results in no production of lysine (not what we want)\n",
    "- Maximizing for lysine production results in no growth (biologically unrealistic)\n",
    "- Maximizing for 80% of grwoth results in both grwoth and the production of lysine, **howerver the choice of the value for limiting growth to 80% was completely arbitary** \n",
    "\n",
    "**Now the main questions are:** \n",
    "\n",
    " - on which bases can the arbitary value of limiting the growth can be choosen?\n",
    " - what is the full tradeoff relationship between growth and lysine production across various values?**\n",
    "\n",
    "To investigate this, we can plot the obtained results after **doing a parameter sensitivity analysis** by changing the value limiting growth **from 0% to 100%**."
   ]
  },
  {
   "cell_type": "code",
   "execution_count": 40,
   "id": "f3af5d03",
   "metadata": {},
   "outputs": [
    {
     "name": "stdout",
     "output_type": "stream",
     "text": [
      "Wall time: 3min 19s\n"
     ]
    },
    {
     "data": {
      "text/html": [
       "<div>\n",
       "<style scoped>\n",
       "    .dataframe tbody tr th:only-of-type {\n",
       "        vertical-align: middle;\n",
       "    }\n",
       "\n",
       "    .dataframe tbody tr th {\n",
       "        vertical-align: top;\n",
       "    }\n",
       "\n",
       "    .dataframe thead th {\n",
       "        text-align: right;\n",
       "    }\n",
       "</style>\n",
       "<table border=\"1\" class=\"dataframe\">\n",
       "  <thead>\n",
       "    <tr style=\"text-align: right;\">\n",
       "      <th></th>\n",
       "      <th>Growth</th>\n",
       "      <th>lysine</th>\n",
       "      <th>factor</th>\n",
       "    </tr>\n",
       "  </thead>\n",
       "  <tbody>\n",
       "    <tr>\n",
       "      <th>0</th>\n",
       "      <td>0.000000</td>\n",
       "      <td>9.433333</td>\n",
       "      <td>0.0000</td>\n",
       "    </tr>\n",
       "    <tr>\n",
       "      <th>1</th>\n",
       "      <td>0.000057</td>\n",
       "      <td>9.432719</td>\n",
       "      <td>0.0001</td>\n",
       "    </tr>\n",
       "    <tr>\n",
       "      <th>2</th>\n",
       "      <td>0.000114</td>\n",
       "      <td>9.432105</td>\n",
       "      <td>0.0002</td>\n",
       "    </tr>\n",
       "    <tr>\n",
       "      <th>3</th>\n",
       "      <td>0.000171</td>\n",
       "      <td>9.431491</td>\n",
       "      <td>0.0003</td>\n",
       "    </tr>\n",
       "    <tr>\n",
       "      <th>4</th>\n",
       "      <td>0.000228</td>\n",
       "      <td>9.430877</td>\n",
       "      <td>0.0004</td>\n",
       "    </tr>\n",
       "    <tr>\n",
       "      <th>...</th>\n",
       "      <td>...</td>\n",
       "      <td>...</td>\n",
       "      <td>...</td>\n",
       "    </tr>\n",
       "    <tr>\n",
       "      <th>9995</th>\n",
       "      <td>0.570375</td>\n",
       "      <td>0.197595</td>\n",
       "      <td>0.9995</td>\n",
       "    </tr>\n",
       "    <tr>\n",
       "      <th>9996</th>\n",
       "      <td>0.570432</td>\n",
       "      <td>0.196005</td>\n",
       "      <td>0.9996</td>\n",
       "    </tr>\n",
       "    <tr>\n",
       "      <th>9997</th>\n",
       "      <td>0.570489</td>\n",
       "      <td>0.194415</td>\n",
       "      <td>0.9997</td>\n",
       "    </tr>\n",
       "    <tr>\n",
       "      <th>9998</th>\n",
       "      <td>0.570546</td>\n",
       "      <td>0.192825</td>\n",
       "      <td>0.9998</td>\n",
       "    </tr>\n",
       "    <tr>\n",
       "      <th>9999</th>\n",
       "      <td>0.570603</td>\n",
       "      <td>0.191236</td>\n",
       "      <td>0.9999</td>\n",
       "    </tr>\n",
       "  </tbody>\n",
       "</table>\n",
       "<p>10000 rows × 3 columns</p>\n",
       "</div>"
      ],
      "text/plain": [
       "        Growth    lysine  factor\n",
       "0     0.000000  9.433333  0.0000\n",
       "1     0.000057  9.432719  0.0001\n",
       "2     0.000114  9.432105  0.0002\n",
       "3     0.000171  9.431491  0.0003\n",
       "4     0.000228  9.430877  0.0004\n",
       "...        ...       ...     ...\n",
       "9995  0.570375  0.197595  0.9995\n",
       "9996  0.570432  0.196005  0.9996\n",
       "9997  0.570489  0.194415  0.9997\n",
       "9998  0.570546  0.192825  0.9998\n",
       "9999  0.570603  0.191236  0.9999\n",
       "\n",
       "[10000 rows x 3 columns]"
      ]
     },
     "execution_count": 40,
     "metadata": {},
     "output_type": "execute_result"
    }
   ],
   "source": [
    "%%time\n",
    "factor_scan = []\n",
    "\n",
    "for factor in np.arange(0.0, 1.0, 0.0001):\n",
    "    \n",
    "    model.objective = model.reactions.DAPDC\n",
    "    model.reactions.Growth.bounds = (max_growth*factor, 1000)\n",
    "    solution = model.optimize()\n",
    "\n",
    "    factor_scan.append({\n",
    "        \"Growth\": solution['Growth'],\n",
    "        \"lysine\": solution['DAPDC'],\n",
    "        \"factor\": factor\n",
    "    })\n",
    "\n",
    "df = pd.DataFrame(factor_scan, columns=[\"Growth\", \"lysine\", \"factor\"])\n",
    "df"
   ]
  },
  {
   "cell_type": "code",
   "execution_count": 41,
   "id": "2a2affa4",
   "metadata": {},
   "outputs": [
    {
     "data": {
      "image/png": "[encoded data removed]",
      "text/plain": [
       "<Figure size 720x576 with 1 Axes>"
      ]
     },
     "metadata": {
      "needs_background": "light"
     },
     "output_type": "display_data"
    }
   ],
   "source": [
    "trade_off_curve = np.array([df['Growth'], df['lysine']]).T\n",
    "\n",
    "line_start = np.array([0, max(df['lysine'])])\n",
    "line_end = np.array([max(df['Growth']), 0])\n",
    "line_vector = line_end - line_start\n",
    "distances = np.abs(np.cross(line_vector, trade_off_curve - line_start)) / np.linalg.norm(line_vector)\n",
    "\n",
    "max_distance_index = np.argmax(distances)\n",
    "max_distance_point = trade_off_curve[max_distance_index]\n",
    "\n",
    "plt.figure(figsize=(10, 8))\n",
    "\n",
    "plt.plot(df['Growth'], df['lysine'], label='Trade-off Curve')\n",
    "plt.plot([line_start[0], line_end[0]], [line_start[1], line_end[1]], 'r--', label='Optimal Trade-off Line')\n",
    "plt.scatter(max_distance_point[0], max_distance_point[1], color='red', label='Max Distance Point')\n",
    "\n",
    "plt.title('Growth VS. lysine TRADEOFF')\n",
    "plt.xlabel('Growth')\n",
    "plt.ylabel('Lysine')\n",
    "plt.xlim(0, max(df['Growth']))\n",
    "plt.ylim(0, max(df['lysine']))\n",
    "plt.legend()\n",
    "plt.grid(True)\n",
    "plt.show()"
   ]
  },
  {
   "cell_type": "markdown",
   "id": "ed2ec050",
   "metadata": {},
   "source": [
    "### Plot analysis\n",
    "This plot highlight clearly the tradeoff relationship between growth and lysine production. **The obtained tradeoff curve follows a convex shape**, which can be highlited after ploting the diagonal line connecting the maximum lysine value on the y-axis to the maximum growth value on the x-axis.\n",
    "\n",
    "**The search for an objective choice** of the optimal value maximing both growth and lysine production **can be seen mathimatically as calculating the perpendicular distance between the curve and the diagonal line, and finding the value that maximizes this this distance.**"
   ]
  },
  {
   "cell_type": "code",
   "execution_count": 44,
   "id": "c19301e1",
   "metadata": {},
   "outputs": [
    {
     "name": "stdout",
     "output_type": "stream",
     "text": [
      "Point with maximum perpondicular distance: [0.25919377 6.39716111]\n"
     ]
    }
   ],
   "source": [
    "print(f\"Point with maximum perpondicular distance: {max_distance_point}\")\n"
   ]
  },
  {
   "cell_type": "code",
   "execution_count": 52,
   "id": "9242f55b",
   "metadata": {},
   "outputs": [
    {
     "name": "stdout",
     "output_type": "stream",
     "text": [
      "\u001b[1m\u001b[30mOptimal factor for limiting growth: 45.42%\u001b[0m\n",
      "\u001b[1m\u001b[30mOptimal growth: 0.259194 [1/h]\u001b[0m\n",
      "\u001b[1m\u001b[30mOptimal lysine: 6.397161 [mmol/gDW*h]\u001b[0m\n"
     ]
    }
   ],
   "source": [
    "optimal_growth, optimal_lysine = max_distance_point\n",
    "optimal_factor = df.loc[max_distance_index, 'factor']\n",
    "\n",
    "printText(f\"Optimal factor for limiting growth: {round(optimal_factor*100, 9)}%\", Fore.BLACK)\n",
    "printText(f\"Optimal growth: {round(optimal_growth, 6)} [1/h]\", Fore.BLACK)\n",
    "printText(f\"Optimal lysine: {round(optimal_lysine, 6)} [mmol/gDW*h]\", Fore.BLACK)\n"
   ]
  },
  {
   "cell_type": "markdown",
   "id": "ed43db85",
   "metadata": {},
   "source": [
    "## Remark\n",
    "\n",
    "**The earlier attempt to find a specific value for restricting growth might not perfectly mirror a real biological system. Nevertheless, it stands as the best effort we can make in this context, and more —certainly better than randomly choosing an arbitrary value like 80%.**"
   ]
  },
  {
   "cell_type": "markdown",
   "id": "56afb652",
   "metadata": {},
   "source": [
    "#### The below calculations are made using a restricted growth value of 0.259194 [1/h]"
   ]
  },
  {
   "cell_type": "code",
   "execution_count": 76,
   "id": "4f574ebb",
   "metadata": {},
   "outputs": [],
   "source": [
    "%%capture\n",
    "\n",
    "model = read_sbml_model('Files/iCGB21FR_updated.xml')"
   ]
  },
  {
   "cell_type": "code",
   "execution_count": 77,
   "id": "5696872a",
   "metadata": {},
   "outputs": [
    {
     "name": "stdout",
     "output_type": "stream",
     "text": [
      "Growth: 0.259194 [1/h]\n",
      "Lysine: 6.397161 [mmol/gDW*h]\n"
     ]
    }
   ],
   "source": [
    "model.reactions.Growth.bounds = (0.259193805 , 1000)\n",
    "model.objective = model.reactions.DAPDC\n",
    "solution = model.optimize()\n",
    "\n",
    "\n",
    "print(f\"Growth: {round(solution['Growth'], 6)} [1/h]\")\n",
    "print(f\"Lysine: {round(solution['DAPDC'], 6)} [mmol/gDW*h]\")"
   ]
  },
  {
   "cell_type": "markdown",
   "id": "5d8e522d",
   "metadata": {},
   "source": [
    "## Single KO"
   ]
  },
  {
   "cell_type": "code",
   "execution_count": 17,
   "id": "a95e3a28",
   "metadata": {},
   "outputs": [
    {
     "name": "stdout",
     "output_type": "stream",
     "text": [
      "Single KO completed!\n",
      "Wall time: 22.5 s\n"
     ]
    },
    {
     "data": {
      "text/html": [
       "<div>\n",
       "<style scoped>\n",
       "    .dataframe tbody tr th:only-of-type {\n",
       "        vertical-align: middle;\n",
       "    }\n",
       "\n",
       "    .dataframe tbody tr th {\n",
       "        vertical-align: top;\n",
       "    }\n",
       "\n",
       "    .dataframe thead th {\n",
       "        text-align: right;\n",
       "    }\n",
       "</style>\n",
       "<table border=\"1\" class=\"dataframe\">\n",
       "  <thead>\n",
       "    <tr style=\"text-align: right;\">\n",
       "      <th></th>\n",
       "      <th>protein_id</th>\n",
       "      <th>growth</th>\n",
       "      <th>lysine</th>\n",
       "    </tr>\n",
       "  </thead>\n",
       "  <tbody>\n",
       "    <tr>\n",
       "      <th>0</th>\n",
       "      <td>WP_011015468</td>\n",
       "      <td>0.259194</td>\n",
       "      <td>6.397161</td>\n",
       "    </tr>\n",
       "    <tr>\n",
       "      <th>1</th>\n",
       "      <td>WP_003855288</td>\n",
       "      <td>0.259194</td>\n",
       "      <td>6.397161</td>\n",
       "    </tr>\n",
       "    <tr>\n",
       "      <th>2</th>\n",
       "      <td>WP_011013917</td>\n",
       "      <td>0.259194</td>\n",
       "      <td>6.397161</td>\n",
       "    </tr>\n",
       "    <tr>\n",
       "      <th>3</th>\n",
       "      <td>WP_003859251</td>\n",
       "      <td>0.259194</td>\n",
       "      <td>5.880308</td>\n",
       "    </tr>\n",
       "    <tr>\n",
       "      <th>4</th>\n",
       "      <td>WP_011015386</td>\n",
       "      <td>0.259194</td>\n",
       "      <td>6.397161</td>\n",
       "    </tr>\n",
       "    <tr>\n",
       "      <th>...</th>\n",
       "      <td>...</td>\n",
       "      <td>...</td>\n",
       "      <td>...</td>\n",
       "    </tr>\n",
       "    <tr>\n",
       "      <th>802</th>\n",
       "      <td>WP_011013607</td>\n",
       "      <td>0.259194</td>\n",
       "      <td>6.337323</td>\n",
       "    </tr>\n",
       "    <tr>\n",
       "      <th>803</th>\n",
       "      <td>WP_011013606</td>\n",
       "      <td>0.259194</td>\n",
       "      <td>6.337323</td>\n",
       "    </tr>\n",
       "    <tr>\n",
       "      <th>804</th>\n",
       "      <td>WP_011014733</td>\n",
       "      <td>0.259194</td>\n",
       "      <td>6.397161</td>\n",
       "    </tr>\n",
       "    <tr>\n",
       "      <th>805</th>\n",
       "      <td>None</td>\n",
       "      <td>0.259194</td>\n",
       "      <td>6.397161</td>\n",
       "    </tr>\n",
       "    <tr>\n",
       "      <th>806</th>\n",
       "      <td>None</td>\n",
       "      <td>0.259194</td>\n",
       "      <td>6.397161</td>\n",
       "    </tr>\n",
       "  </tbody>\n",
       "</table>\n",
       "<p>807 rows × 3 columns</p>\n",
       "</div>"
      ],
      "text/plain": [
       "       protein_id    growth    lysine\n",
       "0    WP_011015468  0.259194  6.397161\n",
       "1    WP_003855288  0.259194  6.397161\n",
       "2    WP_011013917  0.259194  6.397161\n",
       "3    WP_003859251  0.259194  5.880308\n",
       "4    WP_011015386  0.259194  6.397161\n",
       "..            ...       ...       ...\n",
       "802  WP_011013607  0.259194  6.337323\n",
       "803  WP_011013606  0.259194  6.337323\n",
       "804  WP_011014733  0.259194  6.397161\n",
       "805          None  0.259194  6.397161\n",
       "806          None  0.259194  6.397161\n",
       "\n",
       "[807 rows x 3 columns]"
      ]
     },
     "execution_count": 17,
     "metadata": {},
     "output_type": "execute_result"
    }
   ],
   "source": [
    "%%time\n",
    "\n",
    "single_KO_results = []\n",
    "\n",
    "N = len(model.genes)\n",
    "i = 0\n",
    "\n",
    "for gene in model.genes:\n",
    "    with model:\n",
    "        i+=1\n",
    "        gene.knock_out()        \n",
    "        protein_id = getProteinID(gene.id)\n",
    "        \n",
    "        solution = model.optimize()\n",
    "        single_KO_results.append({\n",
    "            \"protein_id\": protein_id,\n",
    "            \"growth\": solution['Growth'],\n",
    "            \"lysine\": solution['DAPDC']\n",
    "        })\n",
    "\n",
    "    progress_text = f\"Progress: {round(i/N*100, 2)}%\"\n",
    "    clear_output(wait=True)\n",
    "    display(progress_text)\n",
    "    \n",
    "clear_output()\n",
    "print(\"Single KO completed!\")\n",
    "\n",
    "df_single_KO = pd.DataFrame(single_KO_results, columns=[\"protein_id\", \"growth\", \"lysine\"])\n",
    "df_single_KO"
   ]
  },
  {
   "cell_type": "code",
   "execution_count": 38,
   "id": "9f7e0032",
   "metadata": {},
   "outputs": [
    {
     "data": {
      "image/png": "[encoded data removed]",
      "text/plain": [
       "<Figure size 864x1008 with 2 Axes>"
      ]
     },
     "metadata": {
      "needs_background": "light"
     },
     "output_type": "display_data"
    }
   ],
   "source": [
    "plt.figure(figsize=(12, 14))\n",
    "\n",
    "plt.subplot(2, 1, 1)\n",
    "plt.scatter(df_single_KO.index, df_single_KO[\"growth\"])\n",
    "plt.axhline(y=0.259194, color='r', linestyle='--', label='Max Growth')\n",
    "plt.xlabel(\"Genes\")\n",
    "plt.ylabel(\"Growth\")\n",
    "plt.title(\"Single KO - Growth\")\n",
    "plt.legend()\n",
    "\n",
    "plt.subplot(2, 1, 2)\n",
    "plt.scatter(df_single_KO.index, df_single_KO[\"lysine\"])\n",
    "plt.axhline(y=6.397161, color='r', linestyle='--', label='Max Lysine')\n",
    "plt.xlabel(\"Genes\")\n",
    "plt.ylabel(\"Lysine\")\n",
    "plt.title(\"Single KO - Lysine\")\n",
    "plt.legend()\n",
    "\n",
    "plt.tight_layout()\n",
    "plt.show()"
   ]
  },
  {
   "cell_type": "markdown",
   "id": "6d6600ff",
   "metadata": {},
   "source": [
    "### Plot analysis\n",
    "**Genes vs. Growth:**\n",
    "\n",
    "The single knockout made manually **kept growth at the same previous value** of 0.259194 [1/h]. This suggests that the removal of a single gene did not lead to an improvement or reduction in the growth rate.\n",
    "\n",
    "**Genes vs. Lysine:**\n",
    "\n",
    "The single knockout made manually **didn't imporve lysine production**, all mutants had either the same previous lysine production value of 6.397161 [mmol/gDW*h] or lower than that. This implies that the removal of individual genes did not result in an increase in lysine production and, in some cases, led to a decrease."
   ]
  },
  {
   "cell_type": "markdown",
   "id": "67756293",
   "metadata": {},
   "source": [
    "## Double KO"
   ]
  },
  {
   "cell_type": "code",
   "execution_count": 6,
   "id": "d3178728",
   "metadata": {},
   "outputs": [
    {
     "name": "stdout",
     "output_type": "stream",
     "text": [
      "Growth: 0.259194 [1/h]\n",
      "Lysine: 6.397161 [mmol/gDW*h]\n"
     ]
    }
   ],
   "source": [
    "model.reactions.Growth.bounds = (0.259193805 , 1000)\n",
    "model.objective = model.reactions.DAPDC\n",
    "solution = model.optimize()\n",
    "\n",
    "\n",
    "print(f\"Growth: {round(solution['Growth'], 6)} [1/h]\")\n",
    "print(f\"Lysine: {round(solution['DAPDC'], 6)} [mmol/gDW*h]\")"
   ]
  },
  {
   "cell_type": "code",
   "execution_count": 7,
   "id": "cdec3a40",
   "metadata": {},
   "outputs": [
    {
     "name": "stdout",
     "output_type": "stream",
     "text": [
      "Double KO completed!\n",
      "Wall time: 2h 58min 57s\n"
     ]
    },
    {
     "data": {
      "text/html": [
       "<div>\n",
       "<style scoped>\n",
       "    .dataframe tbody tr th:only-of-type {\n",
       "        vertical-align: middle;\n",
       "    }\n",
       "\n",
       "    .dataframe tbody tr th {\n",
       "        vertical-align: top;\n",
       "    }\n",
       "\n",
       "    .dataframe thead th {\n",
       "        text-align: right;\n",
       "    }\n",
       "</style>\n",
       "<table border=\"1\" class=\"dataframe\">\n",
       "  <thead>\n",
       "    <tr style=\"text-align: right;\">\n",
       "      <th></th>\n",
       "      <th>protein_id_gene1</th>\n",
       "      <th>protein_id_gene2</th>\n",
       "      <th>growth</th>\n",
       "      <th>lysine</th>\n",
       "    </tr>\n",
       "  </thead>\n",
       "  <tbody>\n",
       "    <tr>\n",
       "      <th>0</th>\n",
       "      <td>NaN</td>\n",
       "      <td>NaN</td>\n",
       "      <td>0.259194</td>\n",
       "      <td>6.397161</td>\n",
       "    </tr>\n",
       "    <tr>\n",
       "      <th>1</th>\n",
       "      <td>NaN</td>\n",
       "      <td>NaN</td>\n",
       "      <td>0.259194</td>\n",
       "      <td>6.397161</td>\n",
       "    </tr>\n",
       "    <tr>\n",
       "      <th>2</th>\n",
       "      <td>NaN</td>\n",
       "      <td>NaN</td>\n",
       "      <td>0.259194</td>\n",
       "      <td>5.880308</td>\n",
       "    </tr>\n",
       "    <tr>\n",
       "      <th>3</th>\n",
       "      <td>NaN</td>\n",
       "      <td>NaN</td>\n",
       "      <td>0.259194</td>\n",
       "      <td>6.397161</td>\n",
       "    </tr>\n",
       "    <tr>\n",
       "      <th>4</th>\n",
       "      <td>NaN</td>\n",
       "      <td>NaN</td>\n",
       "      <td>0.259194</td>\n",
       "      <td>5.880308</td>\n",
       "    </tr>\n",
       "    <tr>\n",
       "      <th>...</th>\n",
       "      <td>...</td>\n",
       "      <td>...</td>\n",
       "      <td>...</td>\n",
       "      <td>...</td>\n",
       "    </tr>\n",
       "    <tr>\n",
       "      <th>325216</th>\n",
       "      <td>NaN</td>\n",
       "      <td>NaN</td>\n",
       "      <td>0.259194</td>\n",
       "      <td>6.337323</td>\n",
       "    </tr>\n",
       "    <tr>\n",
       "      <th>325217</th>\n",
       "      <td>NaN</td>\n",
       "      <td>NaN</td>\n",
       "      <td>0.259194</td>\n",
       "      <td>6.337323</td>\n",
       "    </tr>\n",
       "    <tr>\n",
       "      <th>325218</th>\n",
       "      <td>NaN</td>\n",
       "      <td>NaN</td>\n",
       "      <td>0.259194</td>\n",
       "      <td>6.397161</td>\n",
       "    </tr>\n",
       "    <tr>\n",
       "      <th>325219</th>\n",
       "      <td>NaN</td>\n",
       "      <td>NaN</td>\n",
       "      <td>0.259194</td>\n",
       "      <td>6.397161</td>\n",
       "    </tr>\n",
       "    <tr>\n",
       "      <th>325220</th>\n",
       "      <td>NaN</td>\n",
       "      <td>NaN</td>\n",
       "      <td>0.570660</td>\n",
       "      <td>0.189644</td>\n",
       "    </tr>\n",
       "  </tbody>\n",
       "</table>\n",
       "<p>325221 rows × 4 columns</p>\n",
       "</div>"
      ],
      "text/plain": [
       "        protein_id_gene1  protein_id_gene2    growth    lysine\n",
       "0                    NaN               NaN  0.259194  6.397161\n",
       "1                    NaN               NaN  0.259194  6.397161\n",
       "2                    NaN               NaN  0.259194  5.880308\n",
       "3                    NaN               NaN  0.259194  6.397161\n",
       "4                    NaN               NaN  0.259194  5.880308\n",
       "...                  ...               ...       ...       ...\n",
       "325216               NaN               NaN  0.259194  6.337323\n",
       "325217               NaN               NaN  0.259194  6.337323\n",
       "325218               NaN               NaN  0.259194  6.397161\n",
       "325219               NaN               NaN  0.259194  6.397161\n",
       "325220               NaN               NaN  0.570660  0.189644\n",
       "\n",
       "[325221 rows x 4 columns]"
      ]
     },
     "execution_count": 7,
     "metadata": {},
     "output_type": "execute_result"
    }
   ],
   "source": [
    "%%time\n",
    "\n",
    "n = len(model.genes)\n",
    "k = 2\n",
    "total_double_ko_combinations = factorial(n) // (factorial(k) * factorial(n - k))\n",
    "print(f\"Total number of double KO with {n} genes is: {total_double_ko_combinations}\")\n",
    "\n",
    "\n",
    "N = total_double_ko_combinations\n",
    "i = 0\n",
    "\n",
    "double_KO_results = []\n",
    "\n",
    "for gene1, gene2 in combinations(model.genes, 2):\n",
    "    i+=1\n",
    "    with model:\n",
    "        gene1.knock_out()\n",
    "        gene2.knock_out()\n",
    "\n",
    "        protein_id_1 = getProteinID(gene1.id)\n",
    "        protein_id_2 = getProteinID(gene2.id)\n",
    "\n",
    "        solution = model.optimize()\n",
    "\n",
    "        double_KO_results.append({\n",
    "            \"protein_id_1\": protein_id_1,\n",
    "            \"protein_id_2\": protein_id_2,\n",
    "            \"growth\": solution['Growth'],\n",
    "            \"lysine\": solution['DAPDC']\n",
    "        })\n",
    "\n",
    "    progress_text = f\"Progress: {round(i/N*100, 3)}%\"\n",
    "    clear_output(wait=True)\n",
    "    display(progress_text)\n",
    "    \n",
    "clear_output()\n",
    "print(\"Double KO completed!\")\n",
    "\n",
    "df_double_KO = pd.DataFrame(double_KO_results, columns=[\"protein_id_gene1\", \"protein_id_gene2\", \"growth\", \"lysine\"])\n",
    "df_double_KO"
   ]
  },
  {
   "cell_type": "code",
   "execution_count": 37,
   "id": "00c9220f",
   "metadata": {},
   "outputs": [
    {
     "data": {
      "image/png": "[encoded data removed]",
      "text/plain": [
       "<Figure size 864x1008 with 2 Axes>"
      ]
     },
     "metadata": {
      "needs_background": "light"
     },
     "output_type": "display_data"
    }
   ],
   "source": [
    "plt.figure(figsize=(12, 14))\n",
    "plt.subplot(2, 1, 1)\n",
    "\n",
    "plt.scatter(df_double_KO.index, df_double_KO[\"growth\"])\n",
    "plt.axhline(y=0.259194, color='r', linestyle='--', label='Max Growth')\n",
    "plt.xlabel(\"Gene combinations\")\n",
    "plt.ylabel(\"Growth\")\n",
    "plt.title(\"Double KO - Growth\")\n",
    "plt.legend()\n",
    "\n",
    "plt.subplot(2, 1, 2)\n",
    "plt.scatter(df_double_KO.index, df_double_KO[\"lysine\"])\n",
    "plt.axhline(y=6.397161, color='r', linestyle='--', label='Max Lysine')\n",
    "plt.xlabel(\"Gene combinations\")\n",
    "plt.ylabel(\"Lysine\")\n",
    "plt.title(\"Double KO - Lysine\")\n",
    "plt.legend()\n",
    "\n",
    "plt.tight_layout()\n",
    "plt.show()"
   ]
  },
  {
   "cell_type": "markdown",
   "id": "c9ef45ff",
   "metadata": {},
   "source": [
    "### Plot analysis:\n",
    "Same remarks as for the single KO "
   ]
  }
 ],
 "metadata": {
  "kernelspec": {
   "display_name": "Python 3",
   "language": "python",
   "name": "python3"
  },
  "language_info": {
   "codemirror_mode": {
    "name": "ipython",
    "version": 3
   },
   "file_extension": ".py",
   "mimetype": "text/x-python",
   "name": "python",
   "nbconvert_exporter": "python",
   "pygments_lexer": "ipython3",
   "version": "3.12.0"
  }
 },
 "nbformat": 4,
 "nbformat_minor": 5
}
