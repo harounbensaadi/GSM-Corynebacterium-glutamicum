{
 "cells": [
  {
   "cell_type": "markdown",
   "id": "447630f5",
   "metadata": {},
   "source": [
    "# Medium optimization"
   ]
  },
  {
   "cell_type": "markdown",
   "id": "0b244daa",
   "metadata": {},
   "source": [
    "## Carbon source assessment \n",
    "Author: \n",
    "`Haroun Bensaadi`"
   ]
  },
  {
   "cell_type": "code",
   "execution_count": 237,
   "id": "e75eed36",
   "metadata": {},
   "outputs": [],
   "source": [
    "from cobra.io import read_sbml_model\n",
    "import pandas as pd\n",
    "import matplotlib.pyplot as plt\n",
    "\n",
    "model = read_sbml_model('Files/iCGB21FR_updated.xml')"
   ]
  },
  {
   "cell_type": "code",
   "execution_count": 228,
   "id": "5e561101",
   "metadata": {},
   "outputs": [
    {
     "data": {
      "text/plain": [
       "{'EX_glc__D_e': 10.0,\n",
       " 'EX_h2o_e': 10.0,\n",
       " 'EX_h_e': 10.0,\n",
       " 'EX_cl_e': 10.0,\n",
       " 'EX_pi_e': 10.0,\n",
       " 'EX_nh4_e': 10.0,\n",
       " 'EX_fe3_e': 10.0,\n",
       " 'EX_k_e': 10.0,\n",
       " 'EX_ca2_e': 10.0,\n",
       " 'EX_mg2_e': 10.0,\n",
       " 'EX_mn2_e': 10.0,\n",
       " 'EX_zn2_e': 10.0,\n",
       " 'EX_cu2_e': 10.0,\n",
       " 'EX_o2_e': 10.0,\n",
       " 'EX_fe2_e': 10.0,\n",
       " 'EX_so4_e': 10.0,\n",
       " 'EX_urea_e': 10.0,\n",
       " 'EX_btn_e': 10.0,\n",
       " 'EX_na1_e': 10.0,\n",
       " 'EX_ni2_e': 10.0,\n",
       " 'EX_34dhbz_e': 10.0}"
      ]
     },
     "execution_count": 228,
     "metadata": {},
     "output_type": "execute_result"
    }
   ],
   "source": [
    "model.medium"
   ]
  },
  {
   "cell_type": "code",
   "execution_count": 230,
   "id": "2f371a5a",
   "metadata": {},
   "outputs": [
    {
     "name": "stdout",
     "output_type": "stream",
     "text": [
      "Carbon sources in the medium are:\n",
      " - D-Glucose\n",
      " - Urea\n",
      " - Biotin\n",
      " - 3,4-Dihydroxybenzoate\n"
     ]
    }
   ],
   "source": [
    "print(f\"Carbon sources in the medium are:\")\n",
    "\n",
    "for medium_component in model.medium:\n",
    "    for metabolite in model.reactions.get_by_id(medium_component).metabolites:\n",
    "        if 'C' in metabolite.elements:\n",
    "            print(f\" - {model.metabolites.get_by_id(metabolite.id).name}\")\n",
    "       \n"
   ]
  },
  {
   "cell_type": "markdown",
   "id": "39fef0a7",
   "metadata": {},
   "source": [
    "**The default medium of the model comes with 4 carbon sources, however glucose acts as the main carbon source**"
   ]
  },
  {
   "cell_type": "markdown",
   "id": "73b7d22f",
   "metadata": {},
   "source": [
    "### Getting a list of all possible carbon sources that can be added to the medium"
   ]
  },
  {
   "cell_type": "code",
   "execution_count": 238,
   "id": "1772afab",
   "metadata": {
    "scrolled": false
   },
   "outputs": [
    {
     "name": "stdout",
     "output_type": "stream",
     "text": [
      "Number of found carbon sources: 153\n",
      "\n",
      "D-Glucose, 2-Phosphoglycolate, L-Leucine, 3-Methylbutanoic acid, L-alanine-D-glutamate-meso-2,6-diaminoheptanedioate, L-Alanine, L-alanine-D-glutamate-meso-2,6-diaminoheptanedioate-D-alanine, 5-Dehydro-D-gluconate, 5-Methylthio-D-ribose, L-Arabinose, L Arabinitol C5H12O5, 4-Aminobutanoate, Acetoacetate, N-Acetyl-D-glucosamine, Choline, N-Acetyl-D-mannosamine,  R  Acetoin C4H8O2, Acetyl-cystine-bimane, Adenine, 2-Oxoglutarate, L-Malate, D-Alanyl-D-alanine, D-Alanine, L-Glutamine, Glycine, L-Serine, L-Threonine, L-Arginine, Cys-Gly, Maltose, Maltotriose, Starch n=1200 repeat units (300 repeat units amylose, 900 repeat units amylopectin, corresponds to potatoe starch), Amylose (n=300 repeat units, alpha-1,4-glc), N-Acetyl-D-glucosamine(anhydrous)N-Acetylmuramic acid, D Arabinose C5H10O5, L-Lysine, Ornithine, L-Aspartate, L-Proline, Beta-Alanine, Cellobiose, Methanol, Alpha Methyl D glucoside C7H14O6, Beta Methylglucoside C7H14O6, Bimane, Butanesulfonate C4H9O3S, Butanesulfonate, Butyrate (n-C4:0), Benzoate, Citrate, Succinate, CO2, L-Carnitine, L-Glutamate, Cytidine, Diacetyl, Decanoate (n-C10:0), Dodecanoate (n-C12:0), 2-Dehydro-3-deoxy-D-gluconate, Deoxyribose C5H10O4, D-Serine, Hexadecenoate (n-C16:1), Octadecanoate (n-C18:0), Tetradecanoate (n-C14:0), Ethanolamine, Ethanesulfonate C2H5O3S, Ethanesulfonate, Enterochelin, Fe-enterobactin, D-Fructose, Fumarate, D-Glucosamine, D-Gluconate, D Gluconate C6H11O7, Glycerol 3-phosphate, Glycine betaine, Glycolate, Glycogen (n=1500 repeat units) (glc alpha 1,4/6 glc), Guanine, Protoheme, Hexanesulfonate C6H13O3S, L-Histidine, 4-Hydroxyphenylacetate, Hypoxanthine, Hexanoate (n-C6:0), Taurine, Isocitrate, L-Idonate, L-Isoleucine, Myo-Inositol, Isethionic acid, Isethionate C2H5O4S, Lactose, L-Lactate, Maltoheptaose, Maltohexaose, Maltopentaose, Maltotetraose, D-Mannose, Two linked disacharide pentapeptide murein units (uncrosslinked, middle of chain), Two disacharide linked murein units, pentapeptide crosslinked tetrapeptide (A2pm->D-ala) (middle of chain), Two disacharide linked murein units, pentapeptide corsslinked tripeptide (A2pm->A2pm) (middle of chain), Three linked disacharide pentapeptide murein units (uncrosslinked, middle of chain), Three disacharide linked murein units (pentapeptide crosslinked tetrapeptide (A2pm->D-ala) tetrapeptide corsslinked tetrapeptide (A2pm->D-ala)) (middle of chain), L-Methionine, Undecaprenyl-diphospho-N-acetylmuramoyl-(N-acetylglucosamine)-L-ala-D-glu-meso-2,6-diaminopimeloyl-D-ala-D-ala, Undecaprenyl diphosphate, Methanesulfonate, UMP, Uridine, Undecaprenyl diphosphate galactose-rhamnose-mannose-abequose-acetyl, Octanoate (n-C8:0), Phenylacetic acid, Phenol, (R)-Pantothenate, Propionate (n-C3:0), L-Prolinylglycine, Putrescine, Urate, L-Valine, Raffinose C18H32O16, Ribitol, Spermidine, Urea, D-Ribose, Salmochelin-S4-Fe-III, Salmochelin-S4, Shikimate, Sucrose, Sulfoacetate C2H2O5S, Sulfoacetate, Thiamin, Trimethylamine, Trimethylamine N-oxide, Trehalose, Tetradecenoate (n-C14:1), Uracil, Vanillin, Vanillate, Xanthine, D-Xylose, Biotin, Acetate, L-Asparagine, L-Cysteine, Formate, D-Galactose, L-Homoserine, L-Homoserine, L-Tryptophan, L-Tyrosine, Pyruvate, 3,4-Dihydroxybenzoate\n"
     ]
    }
   ],
   "source": [
    "carbon_sources = []\n",
    "\n",
    "for reaction in model.reactions:\n",
    "    if \"EX_\" in reaction.id:\n",
    "        for metabolite in reaction.metabolites:\n",
    "            if 'C' in metabolite.elements:\n",
    "                carbon_sources.append(reaction)\n",
    "\n",
    "print(f\"Number of found carbon sources: {len(carbon_sources)}\\n\")\n",
    "       \n",
    "carbon_source_names = [model.metabolites.get_by_id(carbon_source.reactants[0].id).name for carbon_source in carbon_sources]\n",
    "print_string = \", \".join(carbon_source_names)\n",
    "print(print_string)"
   ]
  },
  {
   "cell_type": "markdown",
   "id": "2b7fcd4e",
   "metadata": {},
   "source": [
    "### 1. Effect of the carbon source on growth\n",
    "- The growth is not limited, thus taking its max value of 0.57066 [1/h]\n",
    "- The objective function is growth\n",
    "- Each time, glucose is removed and replaced with one carbon source."
   ]
  },
  {
   "cell_type": "code",
   "execution_count": 256,
   "id": "19eb8532",
   "metadata": {},
   "outputs": [],
   "source": [
    "%%capture\n",
    "\n",
    "solutions_growth = {}\n",
    "\n",
    "threshold_growth = 0.57066\n",
    "\n",
    "# creating every time a new medium without glucose and with the carbon source\n",
    "for carbon_source in carbon_sources:\n",
    "    with model:\n",
    "        \n",
    "        medium = model.medium\n",
    "        medium['EX_glc__D_e'] = 0\n",
    "        medium[carbon_source.id] = 10\n",
    "        model.medium = medium\n",
    "        \n",
    "        model.reactions.Growth.bounds = (0, 1000)\n",
    "        model.objective = model.reactions.Growth\n",
    "        solution = model.optimize()\n",
    "        \n",
    "        if solution[\"Growth\"] > threshold_growth+0.00001 or carbon_source.id == \"EX_glc__D_e\":\n",
    "            compound_name = model.metabolites.get_by_id(carbon_source.reactants[0].id).name\n",
    "            \n",
    "            compound_name = \"D-Glucose (default)\" if compound_name == \"D-Glucose\" else compound_name\n",
    "            compound_name = \"Starch\" if compound_name == \"Starch n=1200 repeat units (300 repeat units amylose, 900 repeat units amylopectin, corresponds to potatoe starch)\" else compound_name\n",
    "            compound_name = \"Glycogen\" if compound_name == \"Glycogen (n=1500 repeat units) (glc alpha 1,4/6 glc)\" else compound_name\n",
    "            compound_name = \"Amylose\" if compound_name == \"Amylose (n=300 repeat units, alpha-1,4-glc)\" else compound_name\n",
    "            compound_name = \"Raffinose\" if compound_name == \"Raffinose C18H32O16\" else compound_name\n",
    "\n",
    "            solutions_growth[compound_name] = {\"growth\": solution[\"Growth\"], \"lysine\": solution[\"DAPDC\"]}\n"
   ]
  },
  {
   "cell_type": "code",
   "execution_count": 257,
   "id": "bf2ca5f0",
   "metadata": {},
   "outputs": [
    {
     "data": {
      "text/html": [
       "<div>\n",
       "<style scoped>\n",
       "    .dataframe tbody tr th:only-of-type {\n",
       "        vertical-align: middle;\n",
       "    }\n",
       "\n",
       "    .dataframe tbody tr th {\n",
       "        vertical-align: top;\n",
       "    }\n",
       "\n",
       "    .dataframe thead th {\n",
       "        text-align: right;\n",
       "    }\n",
       "</style>\n",
       "<table border=\"1\" class=\"dataframe\">\n",
       "  <thead>\n",
       "    <tr style=\"text-align: right;\">\n",
       "      <th></th>\n",
       "      <th>Compound</th>\n",
       "      <th>Growth [1/h]</th>\n",
       "      <th>Lysine [mmol/gDW*h]</th>\n",
       "    </tr>\n",
       "  </thead>\n",
       "  <tbody>\n",
       "    <tr>\n",
       "      <th>0</th>\n",
       "      <td>D-Glucose (default)</td>\n",
       "      <td>0.570660</td>\n",
       "      <td>0.189644</td>\n",
       "    </tr>\n",
       "    <tr>\n",
       "      <th>1</th>\n",
       "      <td>D-Glucosamine</td>\n",
       "      <td>0.571343</td>\n",
       "      <td>0.189871</td>\n",
       "    </tr>\n",
       "    <tr>\n",
       "      <th>2</th>\n",
       "      <td>Raffinose</td>\n",
       "      <td>0.789777</td>\n",
       "      <td>0.262462</td>\n",
       "    </tr>\n",
       "    <tr>\n",
       "      <th>3</th>\n",
       "      <td>Trehalose</td>\n",
       "      <td>0.843681</td>\n",
       "      <td>0.280375</td>\n",
       "    </tr>\n",
       "    <tr>\n",
       "      <th>4</th>\n",
       "      <td>Sucrose</td>\n",
       "      <td>0.843681</td>\n",
       "      <td>0.280375</td>\n",
       "    </tr>\n",
       "    <tr>\n",
       "      <th>5</th>\n",
       "      <td>Cellobiose</td>\n",
       "      <td>0.843681</td>\n",
       "      <td>0.280375</td>\n",
       "    </tr>\n",
       "    <tr>\n",
       "      <th>6</th>\n",
       "      <td>Maltose</td>\n",
       "      <td>0.843681</td>\n",
       "      <td>0.280375</td>\n",
       "    </tr>\n",
       "    <tr>\n",
       "      <th>7</th>\n",
       "      <td>Maltotriose</td>\n",
       "      <td>1.088968</td>\n",
       "      <td>0.361890</td>\n",
       "    </tr>\n",
       "    <tr>\n",
       "      <th>8</th>\n",
       "      <td>Maltotetraose</td>\n",
       "      <td>1.246319</td>\n",
       "      <td>0.414181</td>\n",
       "    </tr>\n",
       "    <tr>\n",
       "      <th>9</th>\n",
       "      <td>Maltopentaose</td>\n",
       "      <td>1.530495</td>\n",
       "      <td>0.508620</td>\n",
       "    </tr>\n",
       "    <tr>\n",
       "      <th>10</th>\n",
       "      <td>Maltohexaose</td>\n",
       "      <td>1.814672</td>\n",
       "      <td>0.603059</td>\n",
       "    </tr>\n",
       "    <tr>\n",
       "      <th>11</th>\n",
       "      <td>Maltoheptaose</td>\n",
       "      <td>2.098849</td>\n",
       "      <td>0.697497</td>\n",
       "    </tr>\n",
       "    <tr>\n",
       "      <th>12</th>\n",
       "      <td>Starch</td>\n",
       "      <td>2.818378</td>\n",
       "      <td>0.936614</td>\n",
       "    </tr>\n",
       "    <tr>\n",
       "      <th>13</th>\n",
       "      <td>Amylose</td>\n",
       "      <td>2.818378</td>\n",
       "      <td>0.936614</td>\n",
       "    </tr>\n",
       "    <tr>\n",
       "      <th>14</th>\n",
       "      <td>Glycogen</td>\n",
       "      <td>2.818378</td>\n",
       "      <td>0.936614</td>\n",
       "    </tr>\n",
       "  </tbody>\n",
       "</table>\n",
       "</div>"
      ],
      "text/plain": [
       "               Compound  Growth [1/h]  Lysine [mmol/gDW*h]\n",
       "0   D-Glucose (default)      0.570660             0.189644\n",
       "1         D-Glucosamine      0.571343             0.189871\n",
       "2             Raffinose      0.789777             0.262462\n",
       "3             Trehalose      0.843681             0.280375\n",
       "4               Sucrose      0.843681             0.280375\n",
       "5            Cellobiose      0.843681             0.280375\n",
       "6               Maltose      0.843681             0.280375\n",
       "7           Maltotriose      1.088968             0.361890\n",
       "8         Maltotetraose      1.246319             0.414181\n",
       "9         Maltopentaose      1.530495             0.508620\n",
       "10         Maltohexaose      1.814672             0.603059\n",
       "11        Maltoheptaose      2.098849             0.697497\n",
       "12               Starch      2.818378             0.936614\n",
       "13              Amylose      2.818378             0.936614\n",
       "14             Glycogen      2.818378             0.936614"
      ]
     },
     "execution_count": 257,
     "metadata": {},
     "output_type": "execute_result"
    }
   ],
   "source": [
    "df_growth = pd.DataFrame([(compound, data['growth'], data['lysine']) for compound, data in solutions_growth.items()],\n",
    "                         columns=['Compound', 'Growth [1/h]', 'Lysine [mmol/gDW*h]'])\n",
    "\n",
    "df_growth = df_growth.sort_values(by='Growth [1/h]', ascending=True).reset_index(drop=True)\n",
    "df_growth"
   ]
  },
  {
   "cell_type": "code",
   "execution_count": 258,
   "id": "8b4cf7ea",
   "metadata": {},
   "outputs": [
    {
     "data": {
      "image/png": "[encoded data removed]",
      "text/plain": [
       "<Figure size 792x540 with 1 Axes>"
      ]
     },
     "metadata": {
      "needs_background": "light"
     },
     "output_type": "display_data"
    }
   ],
   "source": [
    "plt.figure(figsize=(11, 7.5))  \n",
    "plt.bar(df_growth['Compound'], df_growth['Growth [1/h]'])\n",
    "plt.bar(df_growth['Compound'], df_growth['Growth [1/h]'], color=['tab:gray' if compound == 'D-Glucose (default)' else 'tab:blue' for compound in df_growth['Compound']])\n",
    "\n",
    "plt.title('Carbon source effect on growth ')\n",
    "plt.xlabel('Carbon source')\n",
    "plt.xticks(rotation=90)\n",
    "plt.ylabel('Growth [1/h]')\n",
    "plt.show()"
   ]
  },
  {
   "cell_type": "markdown",
   "id": "391ea33b",
   "metadata": {},
   "source": [
    "### Analysis\n",
    "**Replacing glucose with other carbon sources yielded better growth rate** "
   ]
  },
  {
   "cell_type": "markdown",
   "id": "d250afd7",
   "metadata": {},
   "source": [
    "### Scenario 2: effect of the carbon source on lysine production\n",
    "- The growth is limited to 0.259194 [1/h]\n",
    "- The objective function is lysine flux\n",
    "- Each time, glucose is removed and replaced with one carbon source."
   ]
  },
  {
   "cell_type": "code",
   "execution_count": 259,
   "id": "ae7d1654",
   "metadata": {},
   "outputs": [],
   "source": [
    "%%capture\n",
    "\n",
    "solutions_lysine = {}\n",
    "\n",
    "threshold_lysine = 6.397161\n",
    "\n",
    "# creating every time a new medium without glucose and with the carbon source\n",
    "for carbon_source in carbon_sources:\n",
    "    with model:\n",
    "        \n",
    "        medium = model.medium\n",
    "        medium['EX_glc__D_e'] = 0\n",
    "        medium[carbon_source.id] = 10\n",
    "        model.medium = medium\n",
    "        \n",
    "        model.reactions.Growth.bounds = (0.259194, 1000)\n",
    "        model.objective = model.reactions.DAPDC\n",
    "        solution = model.optimize()\n",
    "\n",
    "        if solution[\"DAPDC\"] > threshold_lysine+0.00001 or carbon_source.id == \"EX_glc__D_e\":\n",
    "            compound_name = model.metabolites.get_by_id(carbon_source.reactants[0].id).name\n",
    "            \n",
    "            compound_name = \"D-Glucose (default)\" if compound_name == \"D-Glucose\" else compound_name\n",
    "            compound_name = \"Starch\" if compound_name == \"Starch n=1200 repeat units (300 repeat units amylose, 900 repeat units amylopectin, corresponds to potatoe starch)\" else compound_name\n",
    "            compound_name = \"Glycogen\" if compound_name == \"Glycogen (n=1500 repeat units) (glc alpha 1,4/6 glc)\" else compound_name\n",
    "            compound_name = \"Amylose\" if compound_name == \"Amylose (n=300 repeat units, alpha-1,4-glc)\" else compound_name\n",
    "            compound_name = \"Raffinose\" if compound_name == \"Raffinose C18H32O16\" else compound_name\n",
    "\n",
    "            solutions_lysine[compound_name] = {\"growth\": solution[\"Growth\"], \"lysine\": solution[\"DAPDC\"]}\n"
   ]
  },
  {
   "cell_type": "code",
   "execution_count": 260,
   "id": "00f331d7",
   "metadata": {},
   "outputs": [
    {
     "data": {
      "text/html": [
       "<div>\n",
       "<style scoped>\n",
       "    .dataframe tbody tr th:only-of-type {\n",
       "        vertical-align: middle;\n",
       "    }\n",
       "\n",
       "    .dataframe tbody tr th {\n",
       "        vertical-align: top;\n",
       "    }\n",
       "\n",
       "    .dataframe thead th {\n",
       "        text-align: right;\n",
       "    }\n",
       "</style>\n",
       "<table border=\"1\" class=\"dataframe\">\n",
       "  <thead>\n",
       "    <tr style=\"text-align: right;\">\n",
       "      <th></th>\n",
       "      <th>Compound</th>\n",
       "      <th>Growth [1/h]</th>\n",
       "      <th>Lysine [mmol/gDW*h]</th>\n",
       "    </tr>\n",
       "  </thead>\n",
       "  <tbody>\n",
       "    <tr>\n",
       "      <th>0</th>\n",
       "      <td>D-Glucose (default)</td>\n",
       "      <td>0.259194</td>\n",
       "      <td>6.397157</td>\n",
       "    </tr>\n",
       "    <tr>\n",
       "      <th>1</th>\n",
       "      <td>D-Glucosamine</td>\n",
       "      <td>0.259194</td>\n",
       "      <td>6.929089</td>\n",
       "    </tr>\n",
       "    <tr>\n",
       "      <th>2</th>\n",
       "      <td>Raffinose</td>\n",
       "      <td>0.259194</td>\n",
       "      <td>9.729807</td>\n",
       "    </tr>\n",
       "    <tr>\n",
       "      <th>3</th>\n",
       "      <td>Sucrose</td>\n",
       "      <td>0.259194</td>\n",
       "      <td>10.480531</td>\n",
       "    </tr>\n",
       "    <tr>\n",
       "      <th>4</th>\n",
       "      <td>Cellobiose</td>\n",
       "      <td>0.259194</td>\n",
       "      <td>10.480531</td>\n",
       "    </tr>\n",
       "    <tr>\n",
       "      <th>5</th>\n",
       "      <td>Trehalose</td>\n",
       "      <td>0.259194</td>\n",
       "      <td>10.480531</td>\n",
       "    </tr>\n",
       "    <tr>\n",
       "      <th>6</th>\n",
       "      <td>Maltose</td>\n",
       "      <td>0.259194</td>\n",
       "      <td>10.480531</td>\n",
       "    </tr>\n",
       "    <tr>\n",
       "      <th>7</th>\n",
       "      <td>Maltotriose</td>\n",
       "      <td>0.259194</td>\n",
       "      <td>13.638426</td>\n",
       "    </tr>\n",
       "    <tr>\n",
       "      <th>8</th>\n",
       "      <td>Starch</td>\n",
       "      <td>0.259194</td>\n",
       "      <td>13.706651</td>\n",
       "    </tr>\n",
       "    <tr>\n",
       "      <th>9</th>\n",
       "      <td>Maltoheptaose</td>\n",
       "      <td>0.259194</td>\n",
       "      <td>13.706651</td>\n",
       "    </tr>\n",
       "    <tr>\n",
       "      <th>10</th>\n",
       "      <td>Glycogen</td>\n",
       "      <td>0.259194</td>\n",
       "      <td>13.706651</td>\n",
       "    </tr>\n",
       "    <tr>\n",
       "      <th>11</th>\n",
       "      <td>Maltotetraose</td>\n",
       "      <td>0.259194</td>\n",
       "      <td>13.706651</td>\n",
       "    </tr>\n",
       "    <tr>\n",
       "      <th>12</th>\n",
       "      <td>Amylose</td>\n",
       "      <td>0.259194</td>\n",
       "      <td>13.706651</td>\n",
       "    </tr>\n",
       "    <tr>\n",
       "      <th>13</th>\n",
       "      <td>Maltohexaose</td>\n",
       "      <td>0.259194</td>\n",
       "      <td>13.706651</td>\n",
       "    </tr>\n",
       "    <tr>\n",
       "      <th>14</th>\n",
       "      <td>Maltopentaose</td>\n",
       "      <td>0.259194</td>\n",
       "      <td>13.706651</td>\n",
       "    </tr>\n",
       "  </tbody>\n",
       "</table>\n",
       "</div>"
      ],
      "text/plain": [
       "               Compound  Growth [1/h]  Lysine [mmol/gDW*h]\n",
       "0   D-Glucose (default)      0.259194             6.397157\n",
       "1         D-Glucosamine      0.259194             6.929089\n",
       "2             Raffinose      0.259194             9.729807\n",
       "3               Sucrose      0.259194            10.480531\n",
       "4            Cellobiose      0.259194            10.480531\n",
       "5             Trehalose      0.259194            10.480531\n",
       "6               Maltose      0.259194            10.480531\n",
       "7           Maltotriose      0.259194            13.638426\n",
       "8                Starch      0.259194            13.706651\n",
       "9         Maltoheptaose      0.259194            13.706651\n",
       "10             Glycogen      0.259194            13.706651\n",
       "11        Maltotetraose      0.259194            13.706651\n",
       "12              Amylose      0.259194            13.706651\n",
       "13         Maltohexaose      0.259194            13.706651\n",
       "14        Maltopentaose      0.259194            13.706651"
      ]
     },
     "execution_count": 260,
     "metadata": {},
     "output_type": "execute_result"
    }
   ],
   "source": [
    "df_lysine = pd.DataFrame([(compound, data['growth'], data['lysine']) for compound, data in solutions_lysine.items()],\n",
    "                         columns=['Compound', 'Growth [1/h]', 'Lysine [mmol/gDW*h]'])\n",
    "\n",
    "df_lysine = df_lysine.sort_values(by='Lysine [mmol/gDW*h]', ascending=True).reset_index(drop=True)\n",
    "df_lysine\n"
   ]
  },
  {
   "cell_type": "code",
   "execution_count": 261,
   "id": "432c28de",
   "metadata": {},
   "outputs": [
    {
     "data": {
      "image/png": "[encoded data removed]",
      "text/plain": [
       "<Figure size 792x540 with 1 Axes>"
      ]
     },
     "metadata": {
      "needs_background": "light"
     },
     "output_type": "display_data"
    }
   ],
   "source": [
    "plt.figure(figsize=(11, 7.5))  \n",
    "plt.bar(df_lysine['Compound'], df_lysine['Lysine [mmol/gDW*h]'])\n",
    "plt.bar(df_lysine['Compound'], df_lysine['Lysine [mmol/gDW*h]'], color=['tab:gray' if compound == 'D-Glucose (default)' else 'tab:blue' for compound in df_growth['Compound']])\n",
    "\n",
    "plt.title('Carbon source effect on lysine production ')\n",
    "plt.xlabel('Carbon source')\n",
    "plt.xticks(rotation=90)\n",
    "plt.ylabel('Lysine [mmol/gDW*h]')\n",
    "plt.show()"
   ]
  },
  {
   "cell_type": "markdown",
   "id": "2fe25170",
   "metadata": {},
   "source": [
    "### Analysis\n",
    "**Replacing glucose with other carbon sources yielded better lysine production** "
   ]
  }
 ],
 "metadata": {
  "kernelspec": {
   "display_name": "Python 3",
   "language": "python",
   "name": "python3"
  },
  "language_info": {
   "codemirror_mode": {
    "name": "ipython",
    "version": 3
   },
   "file_extension": ".py",
   "mimetype": "text/x-python",
   "name": "python",
   "nbconvert_exporter": "python",
   "pygments_lexer": "ipython3",
   "version": "3.8.8"
  }
 },
 "nbformat": 4,
 "nbformat_minor": 5
}
