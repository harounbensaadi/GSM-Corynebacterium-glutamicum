{
 "cells": [
  {
   "cell_type": "markdown",
   "id": "cf9a454b",
   "metadata": {},
   "source": [
    "# Maximum Theoretical yield"
   ]
  },
  {
   "cell_type": "code",
   "execution_count": 85,
   "metadata": {},
   "outputs": [
    {
     "name": "stdout",
     "output_type": "stream",
     "text": [
      "EX_glc__D_e\n",
      "EX_lys__L_e\n",
      "EX_glyc3p_e\n"
     ]
    }
   ],
   "source": [
    "from cobra.io import read_sbml_model\n",
    "from colorama import init, Fore, Style\n",
    "\n",
    "\n",
    "def printText(text1, color1=Fore.WHITE, text2=\"\", color2=Fore.WHITE, style=Style.BRIGHT):\n",
    "    print(style + color1 + text1 + color2 + text2 + Style.RESET_ALL)\n",
    "\n",
    "model = read_sbml_model('Files/iCGB21FR_updated.xml')\n",
    "\n",
    "# Getting the exchange reaction for GLUCOSE and LYSINE\n",
    "for reaction in model.exchanges:\n",
    "    if \"_glc__D_e\" in reaction.id or \"_lys__L_e\" in reaction.id or \"glyc3p\" in reaction.id:\n",
    "        print(reaction.id)"
   ]
  },
  {
   "cell_type": "code",
   "execution_count": 100,
   "metadata": {},
   "outputs": [
    {
     "name": "stdout",
     "output_type": "stream",
     "text": [
      "\u001b[1m\u001b[31mUsing glucose as a carbon source\u001b[37m\u001b[0m\n",
      "Optimizing using 80% of the MAX growth\n",
      "\n",
      "\u001b[2m\u001b[30mGlucose IMPORT flux [mmol/gDW*h]: \t\u001b[34m10.0\u001b[0m\n",
      "\u001b[22m\u001b[30mLysine EXPORT flux [mmol/gDW*h]: \t\u001b[34m2.764\u001b[0m\n",
      "\u001b[22m\u001b[30mMax theorotical yield [mmol/mmol]: \t\u001b[34m0.276\u001b[0m\n",
      "\n",
      "Optimizing using 45.4% of the MAX growth (optimal factor from previous calculations) : \n",
      "\n",
      "\u001b[22m\u001b[30mGlucose IMPORT flux [mmol/gDW*h]: \t\u001b[34m10.0\u001b[0m\n",
      "\u001b[22m\u001b[30mLysine EXPORT flux [mmol/gDW*h]: \t\u001b[34m6.313\u001b[0m\n",
      "\u001b[22m\u001b[30mMax theorotical yield [mmol/mmol]: \t\u001b[34m0.631 \u001b[0m\n",
      "\u001b[1m\u001b[31m\n",
      "\n",
      "Using glycerol as a carbon source\u001b[37m\u001b[0m\n",
      "Optimizing using 80% of the MAX growth\n",
      "\n",
      "\u001b[22m\u001b[30mGlycerol IMPORT flux [mmol/gDW*h]: \t\u001b[34m10.0\u001b[0m\n",
      "\u001b[22m\u001b[30mLysine EXPORT flux [mmol/gDW*h]: \t\u001b[34m-0.152\u001b[0m\n",
      "\u001b[22m\u001b[30mMax theorotical yield [mmol/mmol]: \t\u001b[34m-0.015\u001b[0m\n",
      "\n",
      "Optimizing using 45.4% of the MAX growth (optimal factor from previous calculations) : \n",
      "\n",
      "\u001b[22m\u001b[30mGlycerol IMPORT flux [mmol/gDW*h]: \t\u001b[34m10.0\u001b[0m\n",
      "\u001b[22m\u001b[30mLysine EXPORT flux [mmol/gDW*h]: \t\u001b[34m3.158\u001b[0m\n",
      "\u001b[22m\u001b[30mMax theorotical yield [mmol/mmol]: \t\u001b[34m0.316\u001b[0m\n",
      "\n",
      "\n",
      "\n",
      "\n",
      "\n"
     ]
    },
    {
     "name": "stderr",
     "output_type": "stream",
     "text": [
      "c:\\Users\\harou\\AppData\\Local\\Programs\\Python\\Python312\\Lib\\site-packages\\cobra\\util\\solver.py:554: UserWarning: Solver status is 'infeasible'.\n",
      "  warn(f\"Solver status is '{status}'.\", UserWarning)\n"
     ]
    }
   ],
   "source": [
    "model = read_sbml_model('Files/iCGB21FR_updated.xml')\n",
    "\n",
    "printText(\"Using glucose as a carbon source\", Fore.RED)\n",
    "print(\"Optimizing using 80% of the MAX growth\\n\")\n",
    "model.reactions.Growth.bounds = (0.80*0.57066, 1000)\n",
    "model.objective = model.reactions.DAPDC\n",
    "solution = model.optimize()\n",
    "\n",
    "printText(f\"Glucose IMPORT flux [mmol/gDW*h]: \\t\", Fore.BLACK, f\"{round(-solution[\"EX_glc__D_e\"], 3)}\", Fore.BLUE, style=Style.DIM)\n",
    "printText(f\"Lysine EXPORT flux [mmol/gDW*h]: \\t\", Fore.BLACK, f\"{round(solution[\"EX_lys__L_e\"], 3)}\", Fore.BLUE, style=Style.NORMAL)\n",
    "max_theoretical_yield = solution[\"EX_lys__L_e\"]/ (-solution[\"EX_glc__D_e\"])\n",
    "printText(f\"Max theorotical yield [mmol/mmol]: \\t\", Fore.BLACK, f\"{round(max_theoretical_yield, 3)}\", Fore.BLUE, style=Style.NORMAL)\n",
    "\n",
    "\n",
    "print(\"\\nOptimizing using 45.4% of the MAX growth (optimal factor from previous calculations) : \\n\")\n",
    "model.reactions.Growth.bounds = (0.454*0.57066 , 1000)\n",
    "model.objective = model.reactions.DAPDC\n",
    "solution = model.optimize()\n",
    "\n",
    "printText(f\"Glucose IMPORT flux [mmol/gDW*h]: \\t\", Fore.BLACK, f\"{round(-solution[\"EX_glc__D_e\"], 3)}\", Fore.BLUE, style=Style.NORMAL)\n",
    "printText(f\"Lysine EXPORT flux [mmol/gDW*h]: \\t\", Fore.BLACK, f\"{round(solution[\"EX_lys__L_e\"], 3)}\", Fore.BLUE, style=Style.NORMAL)\n",
    "max_theoretical_yield = solution[\"EX_lys__L_e\"]/ (-solution[\"EX_glc__D_e\"])\n",
    "printText(f\"Max theorotical yield [mmol/mmol]: \\t\", Fore.BLACK, f\"{round(max_theoretical_yield, 3)} \", Fore.BLUE, style=Style.NORMAL)\n",
    "\n",
    "printText(\"\\n\\nUsing glycerol as a carbon source\", Fore.RED)\n",
    "\n",
    "glycerol_model = model.copy()\n",
    "\n",
    "medium = glycerol_model.medium\n",
    "medium['EX_glc__D_e'] = 0\n",
    "# we are using glycerol 3-p (see Optimization of the carbon source) \n",
    "medium[\"EX_glyc3p_e\"] = 10\n",
    "glycerol_model.medium = medium\n",
    "    \n",
    "print(\"Optimizing using 80% of the MAX growth\\n\")\n",
    "glycerol_model.reactions.Growth.bounds = (0.80*0.57066, 1000)\n",
    "glycerol_model.objective = glycerol_model.reactions.DAPDC\n",
    "solution = glycerol_model.optimize()\n",
    "\n",
    "printText(f\"Glycerol IMPORT flux [mmol/gDW*h]: \\t\", Fore.BLACK, f\"{round(-solution[\"EX_glyc3p_e\"], 3)}\", Fore.BLUE, style=Style.NORMAL)\n",
    "printText(f\"Lysine EXPORT flux [mmol/gDW*h]: \\t\", Fore.BLACK, f\"{round(solution[\"EX_lys__L_e\"], 3)}\", Fore.BLUE, style=Style.NORMAL)\n",
    "max_theoretical_yield = solution[\"EX_lys__L_e\"]/ (-solution[\"EX_glyc3p_e\"])\n",
    "printText(f\"Max theorotical yield [mmol/mmol]: \\t\", Fore.BLACK, f\"{round(max_theoretical_yield, 3)}\", Fore.BLUE, style=Style.NORMAL)\n",
    "\n",
    "print(\"\\nOptimizing using 45.4% of the MAX growth (optimal factor from previous calculations) : \\n\")\n",
    "glycerol_model.reactions.Growth.bounds = (0.454*0.57066 , 1000)\n",
    "glycerol_model.objective = glycerol_model.reactions.DAPDC\n",
    "solution = glycerol_model.optimize()\n",
    "\n",
    "printText(f\"Glycerol IMPORT flux [mmol/gDW*h]: \\t\", Fore.BLACK, f\"{round(-solution[\"EX_glyc3p_e\"], 3)}\", Fore.BLUE, style=Style.NORMAL)\n",
    "printText(f\"Lysine EXPORT flux [mmol/gDW*h]: \\t\", Fore.BLACK, f\"{round(solution[\"EX_lys__L_e\"], 3)}\", Fore.BLUE, style=Style.NORMAL)\n",
    "max_theoretical_yield = solution[\"EX_lys__L_e\"]/ (-solution[\"EX_glyc3p_e\"])\n",
    "printText(f\"Max theorotical yield [mmol/mmol]: \\t\", Fore.BLACK, f\"{round(max_theoretical_yield, 3)}\", Fore.BLUE, style=Style.NORMAL)\n",
    "print(\"\\n\\n\\n\\n\")"
   ]
  },
  {
   "cell_type": "code",
   "execution_count": null,
   "metadata": {},
   "outputs": [],
   "source": []
  },
  {
   "cell_type": "code",
   "execution_count": null,
   "metadata": {},
   "outputs": [],
   "source": []
  },
  {
   "cell_type": "code",
   "execution_count": null,
   "metadata": {},
   "outputs": [],
   "source": []
  },
  {
   "cell_type": "code",
   "execution_count": null,
   "metadata": {},
   "outputs": [],
   "source": [
    "\n"
   ]
  },
  {
   "cell_type": "code",
   "execution_count": null,
   "metadata": {},
   "outputs": [],
   "source": []
  },
  {
   "cell_type": "code",
   "execution_count": null,
   "metadata": {},
   "outputs": [],
   "source": []
  }
 ],
 "metadata": {
  "kernelspec": {
   "display_name": "Python 3 (ipykernel)",
   "language": "python",
   "name": "python3"
  },
  "language_info": {
   "codemirror_mode": {
    "name": "ipython",
    "version": 3
   },
   "file_extension": ".py",
   "mimetype": "text/x-python",
   "name": "python",
   "nbconvert_exporter": "python",
   "pygments_lexer": "ipython3",
   "version": "3.12.0"
  }
 },
 "nbformat": 4,
 "nbformat_minor": 5
}
