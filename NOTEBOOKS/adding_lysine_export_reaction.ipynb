{
 "cells": [
  {
   "cell_type": "markdown",
   "id": "8c5328e2",
   "metadata": {},
   "source": [
    "# Adding lysine export reaction\n",
    "Author: \n",
    "`Haroun Bensaadi`"
   ]
  },
  {
   "cell_type": "code",
   "execution_count": 6,
   "id": "a1792f9f",
   "metadata": {},
   "outputs": [],
   "source": [
    "%%capture\n",
    "%run gene_annotation.ipynb\n",
    "\n",
    "from IPython.display import display, clear_output\n",
    "from cobra.io import read_sbml_model\n",
    "\n",
    "model = read_sbml_model('Files/iCGB21FR.xml')"
   ]
  },
  {
   "cell_type": "code",
   "execution_count": 7,
   "id": "3e379ccc",
   "metadata": {},
   "outputs": [
    {
     "name": "stdout",
     "output_type": "stream",
     "text": [
      "\u001b[22m\u001b[30m\n",
      "All reactions\u001b[0m\n",
      "\u001b[1m\u001b[30m    DAPDC\u001b[0m\n",
      "    26dap__M_c + h_c --> co2_c + lys__L_c\n",
      "\u001b[1m\u001b[30m    LYSabc\u001b[0m\n",
      "    atp_c + h2o_c + lys__L_e --> adp_c + h_c + lys__L_c + pi_c\n",
      "\u001b[1m\u001b[30m    LYSabcpp\u001b[0m\n",
      "    atp_c + h2o_c + lys__L_p --> adp_c + h_c + lys__L_c + pi_c\n",
      "\u001b[1m\u001b[30m    LYSt3pp\u001b[0m\n",
      "    h_p + lys__L_c --> h_c + lys__L_p\n",
      "\u001b[1m\u001b[30m    EX_lys__L_e\u001b[0m\n",
      "    lys__L_e --> \n",
      "\u001b[1m\u001b[33m\n",
      "Metabolism reactions (cytosol)\u001b[0m\n",
      "\u001b[1m\u001b[33m    DAPDC\u001b[0m\n",
      "    26dap__M_c + h_c --> co2_c + lys__L_c\n",
      "\u001b[1m\u001b[32m\n",
      "Import reactions (extra cellular -> cytosol)\u001b[0m\n",
      "\u001b[1m\u001b[32m    LYSabc\u001b[0m\n",
      "    atp_c + h2o_c + lys__L_e --> adp_c + h_c + lys__L_c + pi_c\n",
      "\u001b[1m\u001b[32m\n",
      "Import reactions (extra cellular -> permiplasm)\u001b[0m\n",
      "    None\n",
      "    None\n",
      "\u001b[1m\u001b[32m\n",
      "Import reactions (periplasm -> cytosol)\u001b[0m\n",
      "\u001b[1m\u001b[32m    LYSabcpp\u001b[0m\n",
      "    atp_c + h2o_c + lys__L_p --> adp_c + h_c + lys__L_c + pi_c\n",
      "\u001b[1m\u001b[34m\n",
      "Export reactions (cytosol -> extra cellular)\u001b[0m\n",
      "    None\n",
      "    None\n",
      "\u001b[1m\u001b[34m\n",
      "Export reactions (periplasm -> extra cellular)\u001b[0m\n",
      "    None\n",
      "    None\n",
      "\u001b[1m\u001b[34m\n",
      "Export reactions (cytosol -> periplasm)\u001b[0m\n",
      "\u001b[1m\u001b[34m    LYSt3pp\u001b[0m\n",
      "    h_p + lys__L_c --> h_c + lys__L_p\n"
     ]
    }
   ],
   "source": [
    "printText(\"\\nAll reactions\", Fore.BLACK, Style.NORMAL)\n",
    "shown_reactions = []\n",
    "for reaction in model.reactions:\n",
    "    for lysine_id in [metabolite.id for metabolite in model.metabolites.query(\"lys\")]:\n",
    "        if lysine_id in reaction.reaction:\n",
    "            if reaction.id not in [\"Growth\"] and reaction.id not in shown_reactions:\n",
    "                shown_reactions.append(reaction.id)\n",
    "                printText(f\"    { reaction.id}\", Fore.BLACK, Style.BRIGHT)\n",
    "                print(f\"    {reaction.reaction}\")\n",
    "                #print(f\"{reaction.lower_bound, reaction.upper_bound}\")\n",
    "\n",
    "printText(\"\\nMetabolism reactions (cytosol)\", Fore.YELLOW)\n",
    "shown_reactions = []\n",
    "reactions_to_show = [\"DAPDC\"]\n",
    "\n",
    "for reaction in model.reactions:\n",
    "    for lysine_id in [metabolite.id for metabolite in model.metabolites.query(\"lys\")]:\n",
    "        if lysine_id in reaction.reaction:\n",
    "            if reaction.id not in [\"Growth\"] and reaction.id not in shown_reactions and reaction.id in reactions_to_show:\n",
    "                shown_reactions.append(reaction.id)\n",
    "                printText(f\"    { reaction.id}\", Fore.YELLOW)\n",
    "                print(f\"    {reaction.reaction}\")\n",
    "                #print(f\"{reaction.lower_bound, reaction.upper_bound}\")\n",
    "\n",
    "printText(\"\\nImport reactions (extra cellular -> cytosol)\", Fore.GREEN)\n",
    "shown_reactions = []\n",
    "reactions_to_show = [\"LYSabc\"]\n",
    "\n",
    "for reaction in model.reactions:\n",
    "    for lysine_id in [metabolite.id for metabolite in model.metabolites.query(\"lys\")]:\n",
    "        if lysine_id in reaction.reaction:\n",
    "            if reaction.id not in [\"Growth\"] and reaction.id not in shown_reactions and reaction.id in reactions_to_show:\n",
    "                shown_reactions.append(reaction.id)\n",
    "                printText(f\"    { reaction.id}\", Fore.GREEN)\n",
    "                print(f\"    {reaction.reaction}\")\n",
    "                #print(f\"{reaction.lower_bound, reaction.upper_bound}\")\n",
    "\n",
    "printText(\"\\nImport reactions (extra cellular -> permiplasm)\", Fore.GREEN)\n",
    "print(f\"    None\")\n",
    "print(f\"    None\")\n",
    "\n",
    "\n",
    "printText(\"\\nImport reactions (periplasm -> cytosol)\", Fore.GREEN)\n",
    "shown_reactions = []\n",
    "reactions_to_show = [\"LYSabcpp\"]\n",
    "\n",
    "for reaction in model.reactions:\n",
    "    for lysine_id in [metabolite.id for metabolite in model.metabolites.query(\"lys\")]:\n",
    "        if lysine_id in reaction.reaction:\n",
    "            if reaction.id not in [\"Growth\"] and reaction.id not in shown_reactions and reaction.id in reactions_to_show:\n",
    "                shown_reactions.append(reaction.id)\n",
    "                printText(f\"    { reaction.id}\", Fore.GREEN)\n",
    "                print(f\"    {reaction.reaction}\")\n",
    "                #print(f\"{reaction.lower_bound, reaction.upper_bound}\")\n",
    "                \n",
    "\n",
    "printText(\"\\nExport reactions (cytosol -> extra cellular)\", Fore.BLUE)\n",
    "print(f\"    None\")\n",
    "print(f\"    None\")\n",
    "\n",
    "printText(\"\\nExport reactions (periplasm -> extra cellular)\", Fore.BLUE)\n",
    "print(f\"    None\")\n",
    "print(f\"    None\")\n",
    "\n",
    "printText(\"\\nExport reactions (cytosol -> periplasm)\", Fore.BLUE)\n",
    "shown_reactions = []\n",
    "reactions_to_show = [\"LYSt3pp\"]\n",
    "\n",
    "for reaction in model.reactions:\n",
    "    for lysine_id in [metabolite.id for metabolite in model.metabolites.query(\"lys\")]:\n",
    "        if lysine_id in reaction.reaction:\n",
    "            if reaction.id not in [\"Growth\"] and reaction.id not in shown_reactions and reaction.id in reactions_to_show:\n",
    "                shown_reactions.append(reaction.id)\n",
    "                printText(f\"    { reaction.id}\", Fore.BLUE)\n",
    "                print(f\"    {reaction.reaction}\")\n",
    "                #print(f\"{reaction.lower_bound, reaction.upper_bound}\")"
   ]
  },
  {
   "cell_type": "markdown",
   "id": "1d688e67",
   "metadata": {},
   "source": [
    "As it can be see from the previous reactions involving lysine, **the model lacks export reactions** of lysine: \n",
    "- from **cytosol -> extra cellular space**\n",
    "\n",
    "OR\n",
    "\n",
    "- from **periplasm -> extra cellular space**"
   ]
  },
  {
   "attachments": {
    "image.png": {
     "image/png": "[encoded data removed]"
    }
   },
   "cell_type": "markdown",
   "id": "eb4e9bdd",
   "metadata": {},
   "source": [
    "## Checking literature\n",
    "\n",
    "(Jie et al. 2023) https://doi.org/10.1016/j.biortech.2023.129701\n",
    "\n",
    "![image.png](attachment:image.png)\n",
    "\n",
    "\n",
    "\n",
    "\n",
    "A gene [**ybjE**](https://www.genome.jp/entry/ecs:ECs_0960)  was cited in the paper but it was hard to find any source speaking about the mechanism of its action, and if it is an active or passive transporter"
   ]
  },
  {
   "cell_type": "markdown",
   "id": "c673f029",
   "metadata": {},
   "source": [
    "## The solution: \n",
    "**Downloading all the models available in BiGG database and searching for all reactions in nature that involve lysine export in order to get a valuable inspiration about the stochiometry of this reaction and its energy consumption**"
   ]
  },
  {
   "cell_type": "markdown",
   "id": "fc013c93",
   "metadata": {},
   "source": [
    "### Getting all available models from BIGG database"
   ]
  },
  {
   "cell_type": "code",
   "execution_count": 8,
   "id": "022c0843",
   "metadata": {
    "scrolled": false
   },
   "outputs": [],
   "source": [
    "from cobra.io.json import model_from_dict, model_to_dict\n",
    "import requests\n",
    "import os\n",
    "\n",
    "\n",
    "def getAvailableModels():\n",
    "    response = requests.get('http://bigg.ucsd.edu/api/v2/models')\n",
    "    model_ids = {}\n",
    "\n",
    "    if response.status_code == 200:\n",
    "\n",
    "        models = response.json()['results']\n",
    "\n",
    "        for model in models:\n",
    "            bigg_id = model['bigg_id']\n",
    "            organism = model['organism']\n",
    "            \n",
    "            model_ids[bigg_id] = organism\n",
    "            \n",
    "        return model_ids\n",
    "\n",
    "    else:\n",
    "        print(f\"Error: {response.status_code}\")\n",
    "    \n",
    "\n",
    "def downloadModel(model_id):\n",
    "    response = requests.get(f'http://bigg.ucsd.edu/api/v2/models/{model_id}/download')\n",
    "    \n",
    "    if response.status_code == 200:\n",
    "        print(f\"{model_id} downloaded!\")\n",
    "        model_data = response.json()\n",
    "        return model_data\n",
    "    else:\n",
    "        print(f\"Error: {response.status_code}\")\n",
    "\n",
    "def saveBiGGModels(models):\n",
    "    output_file_path = \"Files/BiGG_models.json\"\n",
    "    try:\n",
    "        with open(output_file_path, 'w') as json_file:\n",
    "            json.dump(models, json_file)\n",
    "        print(f\"BiGG models saved to {output_file_path}\")\n",
    "\n",
    "    except Exception as e:\n",
    "        print(f\"Error saving BiGG models: {e}\")\n",
    "\n",
    "def loadBiGGModels():\n",
    "    input_file_path = \"Files/BiGG_models.json\"\n",
    "    try:\n",
    "        with open(input_file_path, 'r') as json_file:\n",
    "            BiGG_models = json.load(json_file)\n",
    "        print(f\"BiGG models loaded from '{input_file_path}'\")\n",
    "        return BiGG_models\n",
    "    \n",
    "    except Exception as e:\n",
    "        print(f\"Error loading BiGG models: {e}\")\n",
    "        return []"
   ]
  },
  {
   "cell_type": "code",
   "execution_count": 9,
   "id": "b5d24877",
   "metadata": {
    "scrolled": false
   },
   "outputs": [
    {
     "name": "stdout",
     "output_type": "stream",
     "text": [
      "BiGG models loaded from 'Files/BiGG_models.json'\n",
      "\u001b[1m\u001b[30m\n",
      "Number of BiGG models: 108\n",
      "\u001b[0m\n",
      "\u001b[2m\u001b[30me_coli_core -> Escherichia coli str. K-12 substr. MG1655\u001b[0m\n",
      "\u001b[2m\u001b[30miAB_RBC_283 -> Homo sapiens\u001b[0m\n",
      "\u001b[2m\u001b[30miAF1260 -> Escherichia coli str. K-12 substr. MG1655\u001b[0m\n",
      "\u001b[2m\u001b[30miAF1260b -> Escherichia coli str. K-12 substr. MG1655\u001b[0m\n",
      "\u001b[2m\u001b[30miAF692 -> Methanosarcina barkeri str. Fusaro\u001b[0m\n",
      "\u001b[2m\u001b[30miAF987 -> Geobacter metallireducens GS-15\u001b[0m\n",
      "\u001b[2m\u001b[30miAM_Pb448 -> Plasmodium berghei\u001b[0m\n",
      "\u001b[2m\u001b[30miAM_Pc455 -> Plasmodium cynomolgi strain B\u001b[0m\n",
      "\u001b[2m\u001b[30miAM_Pf480 -> Plasmodium falciparum 3D7\u001b[0m\n",
      "\u001b[2m\u001b[30miAM_Pk459 -> Plasmodium knowlesi strain H\u001b[0m\n",
      "\u001b[2m\u001b[30miAM_Pv461 -> Plasmodium vivax Sal-1\u001b[0m\n",
      "\u001b[2m\u001b[30miAPECO1_1312 -> Escherichia coli APEC O1\u001b[0m\n",
      "\u001b[2m\u001b[30miAT_PLT_636 -> Homo sapiens\u001b[0m\n",
      "\u001b[2m\u001b[30miB21_1397 -> Escherichia coli BL21(DE3)\u001b[0m\n",
      "\u001b[2m\u001b[30miBWG_1329 -> Escherichia coli BW2952\u001b[0m\n",
      "\u001b[2m\u001b[30mic_1306 -> Escherichia coli CFT073\u001b[0m\n",
      "\u001b[2m\u001b[30miCHOv1 -> Cricetulus griseus\u001b[0m\n",
      "\u001b[2m\u001b[30miCHOv1_DG44 -> Cricetulus griseus\u001b[0m\n",
      "\u001b[2m\u001b[30miCN718 -> Acinetobacter baumannii AYE\u001b[0m\n",
      "\u001b[2m\u001b[30miCN900 -> Clostridioides difficile 630\u001b[0m\n",
      "\u001b[2m\u001b[30miE2348C_1286 -> Escherichia coli O127:H6 str. E2348/69\u001b[0m\n",
      "\u001b[2m\u001b[30miEC042_1314 -> Escherichia coli 042\u001b[0m\n",
      "\u001b[2m\u001b[30miEC1344_C -> Escherichia coli C\u001b[0m\n",
      "\u001b[2m\u001b[30miEC1349_Crooks -> Escherichia coli ATCC 8739\u001b[0m\n",
      "\u001b[2m\u001b[30miEC1356_Bl21DE3 -> Escherichia coli BL21(DE3)\u001b[0m\n",
      "\u001b[2m\u001b[30miEC1364_W -> Escherichia coli W\u001b[0m\n",
      "\u001b[2m\u001b[30miEC1368_DH5a -> Escherichia coli DH5[alpha]\u001b[0m\n",
      "\u001b[2m\u001b[30miEC1372_W3110 -> Escherichia coli str. K-12 substr. W3110\u001b[0m\n",
      "\u001b[2m\u001b[30miEC55989_1330 -> Escherichia coli 55989\u001b[0m\n",
      "\u001b[2m\u001b[30miECABU_c1320 -> Escherichia coli ABU 83972\u001b[0m\n",
      "\u001b[2m\u001b[30miECB_1328 -> Escherichia coli B str. REL606\u001b[0m\n",
      "\u001b[2m\u001b[30miECBD_1354 -> Escherichia coli 'BL21-Gold(DE3)pLysS AG'\u001b[0m\n",
      "\u001b[2m\u001b[30miECD_1391 -> Escherichia coli BL21(DE3)\u001b[0m\n",
      "\u001b[2m\u001b[30miECDH10B_1368 -> Escherichia coli str. K-12 substr. DH10B\u001b[0m\n",
      "\u001b[2m\u001b[30miEcDH1_1363 -> Escherichia coli DH1\u001b[0m\n",
      "\u001b[2m\u001b[30miECDH1ME8569_1439 -> Escherichia coli DH1\u001b[0m\n",
      "\u001b[2m\u001b[30miEcE24377_1341 -> Escherichia coli O139:H28 str. E24377A\u001b[0m\n",
      "\u001b[2m\u001b[30miECED1_1282 -> Escherichia coli ED1a\u001b[0m\n",
      "\u001b[2m\u001b[30miECH74115_1262 -> Escherichia coli O157:H7 str. EC4115\u001b[0m\n",
      "\u001b[2m\u001b[30miEcHS_1320 -> Escherichia coli HS\u001b[0m\n",
      "\u001b[2m\u001b[30miECIAI1_1343 -> Escherichia coli IAI1\u001b[0m\n",
      "\u001b[2m\u001b[30miECIAI39_1322 -> Escherichia coli IAI39\u001b[0m\n",
      "\u001b[2m\u001b[30miECNA114_1301 -> Escherichia coli NA114\u001b[0m\n",
      "\u001b[2m\u001b[30miECO103_1326 -> Escherichia coli O103:H2 str. 12009\u001b[0m\n",
      "\u001b[2m\u001b[30miECO111_1330 -> Escherichia coli O111:H- str. 11128\u001b[0m\n",
      "\u001b[2m\u001b[30miECO26_1355 -> Escherichia coli O26:H11 str. 11368\u001b[0m\n",
      "\u001b[2m\u001b[30miECOK1_1307 -> Escherichia coli IHE3034\u001b[0m\n",
      "\u001b[2m\u001b[30miEcolC_1368 -> Escherichia coli ATCC 8739\u001b[0m\n",
      "\u001b[2m\u001b[30miECP_1309 -> Escherichia coli 536\u001b[0m\n",
      "\u001b[2m\u001b[30miECs_1301 -> Escherichia coli O157:H7 str. Sakai\u001b[0m\n",
      "\u001b[2m\u001b[30miECS88_1305 -> Escherichia coli S88\u001b[0m\n",
      "\u001b[2m\u001b[30miECSE_1348 -> Escherichia coli SE11\u001b[0m\n",
      "\u001b[2m\u001b[30miECSF_1327 -> Escherichia coli SE15\u001b[0m\n",
      "\u001b[2m\u001b[30miEcSMS35_1347 -> Escherichia coli SMS-3-5\u001b[0m\n",
      "\u001b[2m\u001b[30miECSP_1301 -> Escherichia coli O157:H7 str. TW14359\u001b[0m\n",
      "\u001b[2m\u001b[30miECUMN_1333 -> Escherichia coli UMN026\u001b[0m\n",
      "\u001b[2m\u001b[30miECW_1372 -> Escherichia coli W\u001b[0m\n",
      "\u001b[2m\u001b[30miEK1008 -> Mycobacterium tuberculosis H37Rv\u001b[0m\n",
      "\u001b[2m\u001b[30miEKO11_1354 -> Escherichia coli KO11FL\u001b[0m\n",
      "\u001b[2m\u001b[30miETEC_1333 -> Escherichia coli ETEC H10407\u001b[0m\n",
      "\u001b[2m\u001b[30miG2583_1286 -> Escherichia coli O55:H7 str. CB9615\u001b[0m\n",
      "\u001b[2m\u001b[30miHN637 -> Clostridium ljungdahlii DSM 13528\u001b[0m\n",
      "\u001b[2m\u001b[30miIS312 -> Trypanosoma cruzi Dm28c\u001b[0m\n",
      "\u001b[2m\u001b[30miIS312_Amastigote -> Trypanosoma cruzi Dm28c\u001b[0m\n",
      "\u001b[2m\u001b[30miIS312_Epimastigote -> Trypanosoma cruzi Dm28c\u001b[0m\n",
      "\u001b[2m\u001b[30miIS312_Trypomastigote -> Trypanosoma cruzi Dm28c\u001b[0m\n",
      "\u001b[2m\u001b[30miIT341 -> Helicobacter pylori 26695\u001b[0m\n",
      "\u001b[2m\u001b[30miJB785 -> Synechococcus elongatus PCC 7942\u001b[0m\n",
      "\u001b[2m\u001b[30miJN1463 -> Pseudomonas putida KT2440\u001b[0m\n",
      "\u001b[2m\u001b[30miJN678 -> Synechocystis sp. PCC 6803\u001b[0m\n",
      "\u001b[2m\u001b[30miJN746 -> Pseudomonas putida KT2440\u001b[0m\n",
      "\u001b[2m\u001b[30miJO1366 -> Escherichia coli str. K-12 substr. MG1655\u001b[0m\n",
      "\u001b[2m\u001b[30miJR904 -> Escherichia coli str. K-12 substr. MG1655\u001b[0m\n",
      "\u001b[2m\u001b[30miLB1027_lipid -> Phaeodactylum tricornutum CCAP 1055/1\u001b[0m\n",
      "\u001b[2m\u001b[30miLF82_1304 -> Escherichia coli LF82\u001b[0m\n",
      "\u001b[2m\u001b[30miLJ478 -> Thermotoga maritima MSB8\u001b[0m\n",
      "\u001b[2m\u001b[30miML1515 -> Escherichia coli str. K-12 substr. MG1655\u001b[0m\n",
      "\u001b[2m\u001b[30miMM1415 -> Mus musculus\u001b[0m\n",
      "\u001b[2m\u001b[30miMM904 -> Saccharomyces cerevisiae S288C\u001b[0m\n",
      "\u001b[2m\u001b[30miND750 -> Saccharomyces cerevisiae S288C\u001b[0m\n",
      "\u001b[2m\u001b[30miNF517 -> Lactococcus lactis subsp. cremoris MG1363\u001b[0m\n",
      "\u001b[2m\u001b[30miNJ661 -> Mycobacterium tuberculosis H37Rv\u001b[0m\n",
      "\u001b[2m\u001b[30miNRG857_1313 -> Escherichia coli O83:H1 str. NRG 857C\u001b[0m\n",
      "\u001b[2m\u001b[30miPC815 -> Yersinia pestis CO92\u001b[0m\n",
      "\u001b[2m\u001b[30miRC1080 -> Chlamydomonas reinhardtii\u001b[0m\n",
      "\u001b[2m\u001b[30miS_1188 -> Shigella flexneri 2a str. 2457T\u001b[0m\n",
      "\u001b[2m\u001b[30miSB619 -> Staphylococcus aureus subsp. aureus N315\u001b[0m\n",
      "\u001b[2m\u001b[30miSbBS512_1146 -> Shigella boydii CDC 3083-94\u001b[0m\n",
      "\u001b[2m\u001b[30miSBO_1134 -> Shigella boydii Sb227\u001b[0m\n",
      "\u001b[2m\u001b[30miSDY_1059 -> Shigella dysenteriae Sd197\u001b[0m\n",
      "\u001b[2m\u001b[30miSF_1195 -> Shigella flexneri 2a str. 301\u001b[0m\n",
      "\u001b[2m\u001b[30miSFV_1184 -> Shigella flexneri 5 str. 8401\u001b[0m\n",
      "\u001b[2m\u001b[30miSFxv_1172 -> Shigella flexneri 2002017\u001b[0m\n",
      "\u001b[2m\u001b[30miSSON_1240 -> Shigella sonnei Ss046\u001b[0m\n",
      "\u001b[2m\u001b[30miSynCJ816 -> Synechocystis sp. PCC 6803\u001b[0m\n",
      "\u001b[2m\u001b[30miUMN146_1321 -> Escherichia coli UM146\u001b[0m\n",
      "\u001b[2m\u001b[30miUMNK88_1353 -> Escherichia coli UMNK88\u001b[0m\n",
      "\u001b[2m\u001b[30miUTI89_1310 -> Escherichia coli UTI89\u001b[0m\n",
      "\u001b[2m\u001b[30miWFL_1372 -> Escherichia coli W\u001b[0m\n",
      "\u001b[2m\u001b[30miY75_1357 -> Escherichia coli str. K-12 substr. W3110\u001b[0m\n",
      "\u001b[2m\u001b[30miYL1228 -> Klebsiella pneumoniae subsp. pneumoniae MGH 78578\u001b[0m\n",
      "\u001b[2m\u001b[30miYO844 -> Bacillus subtilis subsp. subtilis str. 168\u001b[0m\n",
      "\u001b[2m\u001b[30miYS1720 -> Salmonella pan-reactome\u001b[0m\n",
      "\u001b[2m\u001b[30miYS854 -> Staphylococcus aureus subsp. aureus USA300_TCH1516\u001b[0m\n",
      "\u001b[2m\u001b[30miZ_1308 -> Escherichia coli O157:H7 str. EDL933\u001b[0m\n",
      "\u001b[2m\u001b[30mRECON1 -> Homo sapiens\u001b[0m\n",
      "\u001b[2m\u001b[30mRecon3D -> Homo sapiens\u001b[0m\n",
      "\u001b[2m\u001b[30mSTM_v1_0 -> Salmonella enterica subsp. enterica serovar Typhimurium str. LT2\u001b[0m\n"
     ]
    }
   ],
   "source": [
    "available_models = getAvailableModels()\n",
    "\n",
    "BiGG_models = {}\n",
    "\n",
    "if not os.path.exists(\"Files/BiGG_models.json\"):\n",
    "    for model_id in available_models:\n",
    "        model_json = downloadModel(model_id)\n",
    "        BiGG_models[model_id] = model_json\n",
    "\n",
    "    saveBiGGModels(BiGG_models)\n",
    "    \n",
    "BiGG_models = loadBiGGModels()\n",
    "\n",
    "printText(f\"\\nNumber of BiGG models: {len(BiGG_models)}\\n\", Fore.BLACK)\n",
    "\n",
    "for model_id, organism in list(available_models.items()):\n",
    "    printText(f\"{model_id} -> {organism}\", Fore.BLACK, Style.DIM)"
   ]
  },
  {
   "cell_type": "markdown",
   "id": "82083ebe",
   "metadata": {},
   "source": [
    "### Searching through all the BiGG models for lysine export reactions\n",
    "\n",
    "The reaction of exporting lysine can be identfied as follow:\n",
    "\n",
    "Either:\n",
    "\n",
    "**lys__L_c**  ->  **lys__L_e** \n",
    "\n",
    "OR  \n",
    "\n",
    "**lys__L_p**  ->  **lys__L_e**\n",
    "\n",
    "### Starting with E. coli models only"
   ]
  },
  {
   "cell_type": "code",
   "execution_count": 10,
   "id": "db481f23",
   "metadata": {
    "scrolled": false
   },
   "outputs": [
    {
     "name": "stdout",
     "output_type": "stream",
     "text": [
      "Search completed!\n",
      "\n",
      "No results were found in E. coli models\n"
     ]
    }
   ],
   "source": [
    "print_results = \"\"\n",
    "N = len(list(BiGG_models.items()))\n",
    "i = 0\n",
    "\n",
    "lysine_export_reactions_ecoli = []\n",
    "\n",
    "for model_id, model_data in list(BiGG_models.items()):\n",
    "    i+=1\n",
    "\n",
    "    if \"Escherichia coli\" in available_models[model_id]:    \n",
    "        model = model_from_dict(model_data)\n",
    "        for reaction in model.reactions:        \n",
    "            for reactant_id in [reactant.id for reactant in reaction.reactants]:\n",
    "                if \"lys__L_c\" in reactant_id and len(reaction.reactants) < 15:\n",
    "                    for product_id in [product.id for product in reaction.products]:\n",
    "                        if \"lys__L_e\" in product_id:\n",
    "                            lysine_export_reactions_ecoli.append(reaction)\n",
    "                            print_results += f\"\\n\\n{model} [{available_models[model_id]}]:\\n    {reaction}\"\n",
    "\n",
    "                if \"lys__L_p\" in reactant_id and len(reaction.reactants) < 15:\n",
    "                    for product_id in [product.id for product in reaction.products]:\n",
    "                        if \"lys__L_e\" in product_id:\n",
    "                            lysine_export_reactions_ecoli.append(reaction)\n",
    "                            print_results += f\"\\n\\n{model} [{available_models[model_id]}]:\\n    {reaction}\"\n",
    "\n",
    "    progress_text = f\"Progress: {i}/{N}\"\n",
    "    clear_output(wait=True)\n",
    "    display(progress_text)\n",
    "    \n",
    "clear_output()\n",
    "print(\"Search completed!\")\n",
    "\n",
    "print(print_results)\n",
    "\n",
    "if len(lysine_export_reactions_ecoli) == 0:\n",
    "    print(\"No results were found in E. coli models\")"
   ]
  },
  {
   "cell_type": "markdown",
   "id": "6dd76f11",
   "metadata": {},
   "source": [
    "**Given no results were found for E. coli models**\n",
    "\n",
    "#### ==>  searching in the rest of the models of other organisms"
   ]
  },
  {
   "cell_type": "code",
   "execution_count": 11,
   "id": "23b80cec",
   "metadata": {
    "scrolled": false
   },
   "outputs": [
    {
     "name": "stdout",
     "output_type": "stream",
     "text": [
      "Search completed!\n",
      "\n",
      "\n",
      "iAF692 [Methanosarcina barkeri str. Fusaro]:\n",
      "    LYSt3r: h_e + lys__L_c <=> h_c + lys__L_e\n",
      "\n",
      "iAM_Pb448 [Plasmodium berghei]:\n",
      "    ARGLYSex: arg__L_e + lys__L_c <-- arg__L_c + lys__L_e\n",
      "\n",
      "iAM_Pc455 [Plasmodium cynomolgi strain B]:\n",
      "    ARGLYSex: arg__L_e + lys__L_c <-- arg__L_c + lys__L_e\n",
      "\n",
      "iAM_Pf480 [Plasmodium falciparum 3D7]:\n",
      "    ARGLYSex: arg__L_e + lys__L_c <-- arg__L_c + lys__L_e\n",
      "\n",
      "iAM_Pk459 [Plasmodium knowlesi strain H]:\n",
      "    ARGLYSex: arg__L_e + lys__L_c <-- arg__L_c + lys__L_e\n",
      "\n",
      "iAM_Pv461 [Plasmodium vivax Sal-1]:\n",
      "    ARGLYSex: arg__L_e + lys__L_c <-- arg__L_c + lys__L_e\n",
      "\n",
      "iCHOv1 [Cricetulus griseus]:\n",
      "    ARGLYSex: arg__L_e + lys__L_c --> arg__L_c + lys__L_e\n",
      "\n",
      "iCHOv1 [Cricetulus griseus]:\n",
      "    SERLYSNaex: lys__L_c + na1_e + ser__L_e --> lys__L_e + na1_c + ser__L_c\n",
      "\n",
      "iCHOv1 [Cricetulus griseus]:\n",
      "    r1912: gly_e + lys__L_c + na1_e --> gly_c + lys__L_e + na1_c\n",
      "\n",
      "iCHOv1 [Cricetulus griseus]:\n",
      "    r1917: ala__L_e + lys__L_c + na1_e --> ala__L_c + lys__L_e + na1_c\n",
      "\n",
      "iCHOv1 [Cricetulus griseus]:\n",
      "    r1922: gln__L_e + lys__L_c + na1_e --> gln__L_c + lys__L_e + na1_c\n",
      "\n",
      "iCHOv1 [Cricetulus griseus]:\n",
      "    r1957: leu__L_e + lys__L_c + na1_e --> leu__L_c + lys__L_e + na1_c\n",
      "\n",
      "iCHOv1 [Cricetulus griseus]:\n",
      "    r1962: lys__L_c + na1_e + pro__L_e --> lys__L_e + na1_c + pro__L_c\n",
      "\n",
      "iCHOv1 [Cricetulus griseus]:\n",
      "    r1932: lys__L_c + met__L_e + na1_e --> lys__L_e + met__L_c + na1_c\n",
      "\n",
      "iCHOv1 [Cricetulus griseus]:\n",
      "    r1937: lys__L_c + na1_e + trp__L_e --> lys__L_e + na1_c + trp__L_c\n",
      "\n",
      "iCHOv1 [Cricetulus griseus]:\n",
      "    r1967: asn__L_e + lys__L_c + na1_e --> asn__L_c + lys__L_e + na1_c\n",
      "\n",
      "iCHOv1 [Cricetulus griseus]:\n",
      "    r1942: lys__L_c + na1_e + phe__L_e --> lys__L_e + na1_c + phe__L_c\n",
      "\n",
      "iCHOv1 [Cricetulus griseus]:\n",
      "    r1972: lys__L_c + na1_e + val__L_e --> lys__L_e + na1_c + val__L_c\n",
      "\n",
      "iCHOv1 [Cricetulus griseus]:\n",
      "    r1947: lys__L_c + na1_e + tyr__L_e --> lys__L_e + na1_c + tyr__L_c\n",
      "\n",
      "iCHOv1 [Cricetulus griseus]:\n",
      "    r1952: cys__L_e + lys__L_c + na1_e --> cys__L_c + lys__L_e + na1_c\n",
      "\n",
      "iCHOv1 [Cricetulus griseus]:\n",
      "    r1977: lys__L_c + na1_e + thr__L_e --> lys__L_e + na1_c + thr__L_c\n",
      "\n",
      "iCHOv1 [Cricetulus griseus]:\n",
      "    r1982: hom__L_e + lys__L_c + na1_e --> hom__L_c + lys__L_e + na1_c\n",
      "\n",
      "iCHOv1 [Cricetulus griseus]:\n",
      "    r1987: ile__L_e + lys__L_c + na1_e --> ile__L_c + lys__L_e + na1_c\n",
      "\n",
      "iCHOv1_DG44 [Cricetulus griseus]:\n",
      "    ARGLYSex: arg__L_e + lys__L_c --> arg__L_c + lys__L_e\n",
      "\n",
      "iCN718 [Acinetobacter baumannii AYE]:\n",
      "    LYSt3r: h_e + lys__L_c <=> h_c + lys__L_e\n",
      "\n",
      "iMM1415 [Mus musculus]:\n",
      "    ARGLYSex: arg__L_e + lys__L_c --> arg__L_c + lys__L_e\n",
      "\n",
      "iMM1415 [Mus musculus]:\n",
      "    SERLYSNaex: lys__L_c + na1_e + ser__L_e --> lys__L_e + na1_c + ser__L_c\n",
      "\n",
      "iYO844 [Bacillus subtilis subsp. subtilis str. 168]:\n",
      "    LYSt3r: h_e + lys__L_c <=> h_c + lys__L_e\n",
      "\n",
      "RECON1 [Homo sapiens]:\n",
      "    ARGLYSex: arg__L_e + lys__L_c --> arg__L_c + lys__L_e\n",
      "\n",
      "RECON1 [Homo sapiens]:\n",
      "    SERLYSNaex: lys__L_c + na1_e + ser__L_e --> lys__L_e + na1_c + ser__L_c\n",
      "\n",
      "Recon3D [Homo sapiens]:\n",
      "    ARGLYSex: arg__L_e + lys__L_c --> arg__L_c + lys__L_e\n",
      "\n",
      "Recon3D [Homo sapiens]:\n",
      "    SERLYSNaex: lys__L_c + na1_e + ser__L_e --> lys__L_e + na1_c + ser__L_c\n",
      "\n",
      "Recon3D [Homo sapiens]:\n",
      "    r1912: gly_e + lys__L_c + na1_e --> gly_c + lys__L_e + na1_c\n",
      "\n",
      "Recon3D [Homo sapiens]:\n",
      "    r1932: lys__L_c + met__L_e + na1_e --> lys__L_e + met__L_c + na1_c\n",
      "\n",
      "Recon3D [Homo sapiens]:\n",
      "    r1957: leu__L_e + lys__L_c + na1_e --> leu__L_c + lys__L_e + na1_c\n",
      "\n",
      "Recon3D [Homo sapiens]:\n",
      "    r1962: lys__L_c + na1_e + pro__L_e --> lys__L_e + na1_c + pro__L_c\n",
      "\n",
      "Recon3D [Homo sapiens]:\n",
      "    r1967: asn__L_e + lys__L_c + na1_e --> asn__L_c + lys__L_e + na1_c\n",
      "\n",
      "Recon3D [Homo sapiens]:\n",
      "    r1972: lys__L_c + na1_e + val__L_e --> lys__L_e + na1_c + val__L_c\n",
      "\n",
      "Recon3D [Homo sapiens]:\n",
      "    r1987: ile__L_e + lys__L_c + na1_e --> ile__L_c + lys__L_e + na1_c\n",
      "\n",
      "Recon3D [Homo sapiens]:\n",
      "    r1917: ala__L_e + lys__L_c + na1_e --> ala__L_c + lys__L_e + na1_c\n",
      "\n",
      "Recon3D [Homo sapiens]:\n",
      "    r1922: gln__L_e + lys__L_c + na1_e --> gln__L_c + lys__L_e + na1_c\n",
      "\n",
      "Recon3D [Homo sapiens]:\n",
      "    r1937: lys__L_c + na1_e + trp__L_e --> lys__L_e + na1_c + trp__L_c\n",
      "\n",
      "Recon3D [Homo sapiens]:\n",
      "    r1942: lys__L_c + na1_e + phe__L_e --> lys__L_e + na1_c + phe__L_c\n",
      "\n",
      "Recon3D [Homo sapiens]:\n",
      "    r1947: lys__L_c + na1_e + tyr__L_e --> lys__L_e + na1_c + tyr__L_c\n",
      "\n",
      "Recon3D [Homo sapiens]:\n",
      "    r1952: cys__L_e + lys__L_c + na1_e --> cys__L_c + lys__L_e + na1_c\n",
      "\n",
      "Recon3D [Homo sapiens]:\n",
      "    r1977: lys__L_c + na1_e + thr__L_e --> lys__L_e + na1_c + thr__L_c\n",
      "\n",
      "Recon3D [Homo sapiens]:\n",
      "    r1982: hom__L_e + lys__L_c + na1_e --> hom__L_c + lys__L_e + na1_c\n"
     ]
    }
   ],
   "source": [
    "print_results = \"\"\n",
    "N = len(list(BiGG_models.items()))\n",
    "i = 0\n",
    "\n",
    "lysine_export_reactions = []\n",
    "\n",
    "for model_id, model_data in list(BiGG_models.items()):\n",
    "    i+=1\n",
    "\n",
    "    if \"Escherichia coli\" not in available_models[model_id]:    \n",
    "        model = model_from_dict(model_data)\n",
    "        for reaction in model.reactions:        \n",
    "            for reactant_id in [reactant.id for reactant in reaction.reactants]:\n",
    "                if \"lys__L_c\" in reactant_id and len(reaction.reactants) < 15:\n",
    "                    for product_id in [product.id for product in reaction.products]:\n",
    "                        if \"lys__L_e\" in product_id:\n",
    "                            lysine_export_reactions.append(reaction)\n",
    "                            print_results += f\"\\n\\n{model} [{available_models[model_id]}]:\\n    {reaction}\"\n",
    "\n",
    "                if \"lys__L_p\" in reactant_id and len(reaction.reactants) < 15:\n",
    "                    for product_id in [product.id for product in reaction.products]:\n",
    "                        if \"lys__L_e\" in product_id:\n",
    "                            lysine_export_reactions.append(reaction)\n",
    "                            print_results += f\"\\n\\n{model} [{available_models[model_id]}]:\\n    {reaction}\"\n",
    "\n",
    "    progress_text = f\"Progress: {i}/{N}\"\n",
    "    clear_output(wait=True)\n",
    "    display(progress_text)\n",
    "    \n",
    "clear_output()\n",
    "print(\"Search completed!\")\n",
    "\n",
    "print(print_results)"
   ]
  },
  {
   "cell_type": "markdown",
   "id": "92b7deec",
   "metadata": {},
   "source": [
    "**After doing the search, the reactions involving the export of lysine can be summarized as follow:** "
   ]
  },
  {
   "cell_type": "code",
   "execution_count": 12,
   "id": "51845cb5",
   "metadata": {
    "scrolled": false
   },
   "outputs": [
    {
     "name": "stdout",
     "output_type": "stream",
     "text": [
      "\u001b[1m\u001b[34mNumber of different reactions: 19\n",
      "\u001b[0m\n",
      "\u001b[1m\u001b[30mReversible <=>\u001b[0m\n"
     ]
    },
    {
     "data": {
      "text/html": [
       "h_e + <b style=\"color:red\">lys__L_c</b> <=> h_c + <b style=\"color:red\">lys__L_e</b>"
      ],
      "text/plain": [
       "<IPython.core.display.HTML object>"
      ]
     },
     "metadata": {},
     "output_type": "display_data"
    },
    {
     "name": "stdout",
     "output_type": "stream",
     "text": [
      "\u001b[1m\u001b[30mForward =>\u001b[0m\n"
     ]
    },
    {
     "data": {
      "text/html": [
       "arg__L_e + <b style=\"color:red\">lys__L_c</b> --> arg__L_c + <b style=\"color:red\">lys__L_e</b>"
      ],
      "text/plain": [
       "<IPython.core.display.HTML object>"
      ]
     },
     "metadata": {},
     "output_type": "display_data"
    },
    {
     "data": {
      "text/html": [
       "<b style=\"color:red\">lys__L_c</b> + na1_e + ser__L_e --> <b style=\"color:red\">lys__L_e</b> + na1_c + ser__L_c"
      ],
      "text/plain": [
       "<IPython.core.display.HTML object>"
      ]
     },
     "metadata": {},
     "output_type": "display_data"
    },
    {
     "data": {
      "text/html": [
       "gly_e + <b style=\"color:red\">lys__L_c</b> + na1_e --> gly_c + <b style=\"color:red\">lys__L_e</b> + na1_c"
      ],
      "text/plain": [
       "<IPython.core.display.HTML object>"
      ]
     },
     "metadata": {},
     "output_type": "display_data"
    },
    {
     "data": {
      "text/html": [
       "ala__L_e + <b style=\"color:red\">lys__L_c</b> + na1_e --> ala__L_c + <b style=\"color:red\">lys__L_e</b> + na1_c"
      ],
      "text/plain": [
       "<IPython.core.display.HTML object>"
      ]
     },
     "metadata": {},
     "output_type": "display_data"
    },
    {
     "data": {
      "text/html": [
       "gln__L_e + <b style=\"color:red\">lys__L_c</b> + na1_e --> gln__L_c + <b style=\"color:red\">lys__L_e</b> + na1_c"
      ],
      "text/plain": [
       "<IPython.core.display.HTML object>"
      ]
     },
     "metadata": {},
     "output_type": "display_data"
    },
    {
     "data": {
      "text/html": [
       "leu__L_e + <b style=\"color:red\">lys__L_c</b> + na1_e --> leu__L_c + <b style=\"color:red\">lys__L_e</b> + na1_c"
      ],
      "text/plain": [
       "<IPython.core.display.HTML object>"
      ]
     },
     "metadata": {},
     "output_type": "display_data"
    },
    {
     "data": {
      "text/html": [
       "<b style=\"color:red\">lys__L_c</b> + na1_e + pro__L_e --> <b style=\"color:red\">lys__L_e</b> + na1_c + pro__L_c"
      ],
      "text/plain": [
       "<IPython.core.display.HTML object>"
      ]
     },
     "metadata": {},
     "output_type": "display_data"
    },
    {
     "data": {
      "text/html": [
       "<b style=\"color:red\">lys__L_c</b> + met__L_e + na1_e --> <b style=\"color:red\">lys__L_e</b> + met__L_c + na1_c"
      ],
      "text/plain": [
       "<IPython.core.display.HTML object>"
      ]
     },
     "metadata": {},
     "output_type": "display_data"
    },
    {
     "data": {
      "text/html": [
       "<b style=\"color:red\">lys__L_c</b> + na1_e + trp__L_e --> <b style=\"color:red\">lys__L_e</b> + na1_c + trp__L_c"
      ],
      "text/plain": [
       "<IPython.core.display.HTML object>"
      ]
     },
     "metadata": {},
     "output_type": "display_data"
    },
    {
     "data": {
      "text/html": [
       "asn__L_e + <b style=\"color:red\">lys__L_c</b> + na1_e --> asn__L_c + <b style=\"color:red\">lys__L_e</b> + na1_c"
      ],
      "text/plain": [
       "<IPython.core.display.HTML object>"
      ]
     },
     "metadata": {},
     "output_type": "display_data"
    },
    {
     "data": {
      "text/html": [
       "<b style=\"color:red\">lys__L_c</b> + na1_e + phe__L_e --> <b style=\"color:red\">lys__L_e</b> + na1_c + phe__L_c"
      ],
      "text/plain": [
       "<IPython.core.display.HTML object>"
      ]
     },
     "metadata": {},
     "output_type": "display_data"
    },
    {
     "data": {
      "text/html": [
       "<b style=\"color:red\">lys__L_c</b> + na1_e + val__L_e --> <b style=\"color:red\">lys__L_e</b> + na1_c + val__L_c"
      ],
      "text/plain": [
       "<IPython.core.display.HTML object>"
      ]
     },
     "metadata": {},
     "output_type": "display_data"
    },
    {
     "data": {
      "text/html": [
       "<b style=\"color:red\">lys__L_c</b> + na1_e + tyr__L_e --> <b style=\"color:red\">lys__L_e</b> + na1_c + tyr__L_c"
      ],
      "text/plain": [
       "<IPython.core.display.HTML object>"
      ]
     },
     "metadata": {},
     "output_type": "display_data"
    },
    {
     "data": {
      "text/html": [
       "cys__L_e + <b style=\"color:red\">lys__L_c</b> + na1_e --> cys__L_c + <b style=\"color:red\">lys__L_e</b> + na1_c"
      ],
      "text/plain": [
       "<IPython.core.display.HTML object>"
      ]
     },
     "metadata": {},
     "output_type": "display_data"
    },
    {
     "data": {
      "text/html": [
       "<b style=\"color:red\">lys__L_c</b> + na1_e + thr__L_e --> <b style=\"color:red\">lys__L_e</b> + na1_c + thr__L_c"
      ],
      "text/plain": [
       "<IPython.core.display.HTML object>"
      ]
     },
     "metadata": {},
     "output_type": "display_data"
    },
    {
     "data": {
      "text/html": [
       "hom__L_e + <b style=\"color:red\">lys__L_c</b> + na1_e --> hom__L_c + <b style=\"color:red\">lys__L_e</b> + na1_c"
      ],
      "text/plain": [
       "<IPython.core.display.HTML object>"
      ]
     },
     "metadata": {},
     "output_type": "display_data"
    },
    {
     "data": {
      "text/html": [
       "ile__L_e + <b style=\"color:red\">lys__L_c</b> + na1_e --> ile__L_c + <b style=\"color:red\">lys__L_e</b> + na1_c"
      ],
      "text/plain": [
       "<IPython.core.display.HTML object>"
      ]
     },
     "metadata": {},
     "output_type": "display_data"
    }
   ],
   "source": [
    "from IPython.display import HTML\n",
    "\n",
    "no_duplicate_lysine_export_reactions = []\n",
    "\n",
    "for reaction in lysine_export_reactions:\n",
    "    if reaction.reaction not in no_duplicate_lysine_export_reactions:\n",
    "        no_duplicate_lysine_export_reactions.append(reaction.reaction)\n",
    "\n",
    "printText(f\"Number of different reactions: {len(no_duplicate_lysine_export_reactions)}\\n\", Fore.BLUE)\n",
    "\n",
    "printText(\"Reversible <=>\", Fore.BLACK)\n",
    "for reaction in no_duplicate_lysine_export_reactions:\n",
    "    if \" <=> \" in reaction:\n",
    "        display(HTML(reaction.replace('lys__L_c', '<b style=\"color:red\">lys__L_c</b>').replace('lys__L_e', '<b style=\"color:red\">lys__L_e</b>')))\n",
    "\n",
    "printText(\"Forward =>\", Fore.BLACK)\n",
    "for reaction in no_duplicate_lysine_export_reactions:\n",
    "    if \" --> \" in reaction:\n",
    "        display(HTML(reaction.replace('lys__L_c', '<b style=\"color:red\">lys__L_c</b>').replace('lys__L_e', '<b style=\"color:red\">lys__L_e</b>')))\n"
   ]
  },
  {
   "cell_type": "markdown",
   "id": "2d6feb4d",
   "metadata": {},
   "source": [
    "It can be seen that exporting lysine involves two mechanisms:\n",
    "\n",
    "1. Coupling the export of lysine with **the import of H+**\n",
    "\n",
    "Organisms: \n",
    "\n",
    "- Methanosarcina barkeri str. Fusaro\n",
    "- Acinetobacter baumannii AYE\n",
    "- Bacillus subtilis subsp. subtilis str. 168\n",
    "\n",
    "2. Coupling the export of lysine with **the import of an amino acid and Na+ ion**\n",
    "\n",
    "Organisms: \n",
    "\n",
    "- Plasmodium berghei\n",
    "- Plasmodium cynomolgi strain B\n",
    "- Plasmodium falciparum 3D7\n",
    "- Plasmodium knowlesi strain H\n",
    "- Plasmodium vivax Sal-1\n",
    "- Cricetulus griseus\n",
    "- Mus musculus\n",
    "- Homo sapiens\n"
   ]
  },
  {
   "cell_type": "markdown",
   "id": "bd239928",
   "metadata": {},
   "source": [
    "### Making a choice:\n",
    "\n",
    "The reaction **h_e + lys__L_c <=> h_c + lys__L_e** is the final choice for it to be incorporated in the model. The main motivation compared to choosing other reactions, is **to avoid adding another amino acid into to the medium for the export of lysine to work**.\n",
    "\n",
    "However the original lysine export reaction is reversible, and for our requierements, we wants a reaction that runs only in the forward direction. For this reason, **this reaction will be modified to run in the forward direction by adjusting the lower bound to 0.**"
   ]
  },
  {
   "cell_type": "code",
   "execution_count": 13,
   "id": "53c9f3a4",
   "metadata": {},
   "outputs": [
    {
     "data": {
      "text/html": [
       "\n",
       "        <table>\n",
       "            <tr>\n",
       "                <td><strong>Reaction identifier</strong></td><td>LYSt3r</td>\n",
       "            </tr><tr>\n",
       "                <td><strong>Name</strong></td><td>L lysine transport out via proton antiport reversible</td>\n",
       "            </tr><tr>\n",
       "                <td><strong>Memory address</strong></td>\n",
       "                <td>0x26d15dd0a30</td>\n",
       "            </tr><tr>\n",
       "                <td><strong>Stoichiometry</strong></td>\n",
       "                <td>\n",
       "                    <p style='text-align:right'>h_e + lys__L_c <=> h_c + lys__L_e</p>\n",
       "                    <p style='text-align:right'>H+ + L-Lysine <=> H+ + L-Lysine</p>\n",
       "                </td>\n",
       "            </tr><tr>\n",
       "                <td><strong>GPR</strong></td><td>Mbar_A2583 or Mbar_A3244</td>\n",
       "            </tr><tr>\n",
       "                <td><strong>Lower bound</strong></td><td>-999999.0</td>\n",
       "            </tr><tr>\n",
       "                <td><strong>Upper bound</strong></td><td>999999.0</td>\n",
       "            </tr>\n",
       "        </table>\n",
       "        "
      ],
      "text/plain": [
       "<Reaction LYSt3r at 0x26d15dd0a30>"
      ]
     },
     "execution_count": 13,
     "metadata": {},
     "output_type": "execute_result"
    }
   ],
   "source": [
    "lysine_export_reaction = lysine_export_reactions[0]\n",
    "lysine_export_reaction"
   ]
  },
  {
   "cell_type": "markdown",
   "id": "04b972c5",
   "metadata": {},
   "source": [
    "## Adding the reaction to the model"
   ]
  },
  {
   "cell_type": "markdown",
   "id": "d669a162",
   "metadata": {},
   "source": [
    "#### Checking if the metabolites already exists in the model"
   ]
  },
  {
   "cell_type": "code",
   "execution_count": 14,
   "id": "0a6a7a05",
   "metadata": {},
   "outputs": [],
   "source": [
    "%%capture\n",
    "from IPython.display import display, clear_output\n",
    "from cobra import Model, Reaction\n",
    "from cobra.io import read_sbml_model\n",
    "\n",
    "model = read_sbml_model('Files/iCGB21FR.xml')"
   ]
  },
  {
   "cell_type": "code",
   "execution_count": 15,
   "id": "547e82dc",
   "metadata": {},
   "outputs": [
    {
     "name": "stdout",
     "output_type": "stream",
     "text": [
      "Growth: 0.571 [1/h]\n",
      "Lysine: 0.19 [mmol/gDW*h]\n"
     ]
    }
   ],
   "source": [
    "model.objective = model.reactions.DAPDC\n",
    "solution = model.optimize()\n",
    "\n",
    "print(f\"Growth: {round(solution['Growth'], 3)} [1/h]\")\n",
    "print(f\"Lysine: {round(solution['DAPDC'], 3)} [mmol/gDW*h]\")"
   ]
  },
  {
   "cell_type": "code",
   "execution_count": 16,
   "id": "e69521a5",
   "metadata": {},
   "outputs": [
    {
     "data": {
      "text/html": [
       "\n",
       "        <table>\n",
       "            <tr>\n",
       "                <td><strong>Metabolite identifier</strong></td><td>h_e</td>\n",
       "            </tr><tr>\n",
       "                <td><strong>Name</strong></td><td>H+</td>\n",
       "            </tr><tr>\n",
       "                <td><strong>Memory address</strong></td>\n",
       "                <td>0x26d8c9363d0</td>\n",
       "            </tr><tr>\n",
       "                <td><strong>Formula</strong></td><td>H</td>\n",
       "            </tr><tr>\n",
       "                <td><strong>Compartment</strong></td><td>e</td>\n",
       "            </tr><tr>\n",
       "                <td><strong>In 67 reaction(s)</strong></td><td>\n",
       "                    NO2t2r, PROt2r, SPMDt3, ILEt2r, GLCNt2ir, INSTt2, GLYt2r, 5MTRt2, Kt3r, BUTt2r, CHLt2, NADH7, VALt2r, CAt4, ASPt2r, NAt3_1, FUMt2r, URATEt_1, URAt2, NADH8, CYO1a, RAFFINt2, Rbtt2, IDONt2r, SUCCt2r,...\n",
       "                    </td>\n",
       "            </tr>\n",
       "        </table>"
      ],
      "text/plain": [
       "<Metabolite h_e at 0x26d8c9363d0>"
      ]
     },
     "execution_count": 16,
     "metadata": {},
     "output_type": "execute_result"
    }
   ],
   "source": [
    "model.metabolites.h_e"
   ]
  },
  {
   "cell_type": "code",
   "execution_count": 17,
   "id": "77da5d6c",
   "metadata": {},
   "outputs": [
    {
     "data": {
      "text/html": [
       "\n",
       "        <table>\n",
       "            <tr>\n",
       "                <td><strong>Metabolite identifier</strong></td><td>lys__L_c</td>\n",
       "            </tr><tr>\n",
       "                <td><strong>Name</strong></td><td>L-Lysine</td>\n",
       "            </tr><tr>\n",
       "                <td><strong>Memory address</strong></td>\n",
       "                <td>0x26d8c9454c0</td>\n",
       "            </tr><tr>\n",
       "                <td><strong>Formula</strong></td><td>C6H15N2O2</td>\n",
       "            </tr><tr>\n",
       "                <td><strong>Compartment</strong></td><td>c</td>\n",
       "            </tr><tr>\n",
       "                <td><strong>In 5 reaction(s)</strong></td><td>\n",
       "                    Growth, LYSabcpp, LYSabc, DAPDC, LYSt3pp\n",
       "                    </td>\n",
       "            </tr>\n",
       "        </table>"
      ],
      "text/plain": [
       "<Metabolite lys__L_c at 0x26d8c9454c0>"
      ]
     },
     "execution_count": 17,
     "metadata": {},
     "output_type": "execute_result"
    }
   ],
   "source": [
    "model.metabolites.lys__L_c"
   ]
  },
  {
   "cell_type": "code",
   "execution_count": 18,
   "id": "363cbd76",
   "metadata": {},
   "outputs": [
    {
     "data": {
      "text/html": [
       "\n",
       "        <table>\n",
       "            <tr>\n",
       "                <td><strong>Metabolite identifier</strong></td><td>h_c</td>\n",
       "            </tr><tr>\n",
       "                <td><strong>Name</strong></td><td>H+</td>\n",
       "            </tr><tr>\n",
       "                <td><strong>Memory address</strong></td>\n",
       "                <td>0x26d043a1490</td>\n",
       "            </tr><tr>\n",
       "                <td><strong>Formula</strong></td><td>H</td>\n",
       "            </tr><tr>\n",
       "                <td><strong>Compartment</strong></td><td>c</td>\n",
       "            </tr><tr>\n",
       "                <td><strong>In 761 reaction(s)</strong></td><td>\n",
       "                    UDPGD, FAO10, PC, CTPS1, GLYBabcpp, ASPCT, SSCOARy, DHBS, CS, GLYCK2, PA181abcpp, KAS13, PA160abcpp, ALCD2x, MTHFR3, NTPP1, FAS140, UAGDP, ALCD3ir, CHLt2, UGMDDS, PA180abcpp, ADPRDP, ASPt2r,...\n",
       "                    </td>\n",
       "            </tr>\n",
       "        </table>"
      ],
      "text/plain": [
       "<Metabolite h_c at 0x26d043a1490>"
      ]
     },
     "execution_count": 18,
     "metadata": {},
     "output_type": "execute_result"
    }
   ],
   "source": [
    "model.metabolites.h_c"
   ]
  },
  {
   "cell_type": "code",
   "execution_count": 19,
   "id": "7dcdce40",
   "metadata": {},
   "outputs": [
    {
     "data": {
      "text/html": [
       "\n",
       "        <table>\n",
       "            <tr>\n",
       "                <td><strong>Metabolite identifier</strong></td><td>lys__L_e</td>\n",
       "            </tr><tr>\n",
       "                <td><strong>Name</strong></td><td>L-Lysine</td>\n",
       "            </tr><tr>\n",
       "                <td><strong>Memory address</strong></td>\n",
       "                <td>0x26d8c945910</td>\n",
       "            </tr><tr>\n",
       "                <td><strong>Formula</strong></td><td>C6H15N2O2</td>\n",
       "            </tr><tr>\n",
       "                <td><strong>Compartment</strong></td><td>e</td>\n",
       "            </tr><tr>\n",
       "                <td><strong>In 2 reaction(s)</strong></td><td>\n",
       "                    EX_lys__L_e, LYSabc\n",
       "                    </td>\n",
       "            </tr>\n",
       "        </table>"
      ],
      "text/plain": [
       "<Metabolite lys__L_e at 0x26d8c945910>"
      ]
     },
     "execution_count": 19,
     "metadata": {},
     "output_type": "execute_result"
    }
   ],
   "source": [
    "model.metabolites.lys__L_e"
   ]
  },
  {
   "cell_type": "markdown",
   "id": "b7525f2e",
   "metadata": {},
   "source": [
    "#### Creating the new reaction"
   ]
  },
  {
   "cell_type": "code",
   "execution_count": 20,
   "id": "5721804c",
   "metadata": {},
   "outputs": [],
   "source": [
    "lys_exp_rxn = Reaction(\"LYSt3r\")\n",
    "lys_exp_rxn.name = \"L lysine transport out via proton antiport reversible\"\n",
    "\n",
    "lys_exp_rxn.add_metabolites({\n",
    "    model.metabolites.h_e: -1,\n",
    "    model.metabolites.lys__L_c: -1,\n",
    "    model.metabolites.h_c: 1,\n",
    "    model.metabolites.lys__L_e: 1\n",
    "})\n",
    "\n",
    "lys_exp_rxn.gene_reaction_rule = \"( Mbar_A2583 or Mbar_A3244 )\"\n",
    "\n",
    "lys_exp_rxn.lower_bound, lys_exp_rxn.upper_bound = 0, 1000\n",
    "model.add_reactions([lys_exp_rxn])"
   ]
  },
  {
   "cell_type": "code",
   "execution_count": 22,
   "id": "4be14522",
   "metadata": {},
   "outputs": [
    {
     "data": {
      "text/html": [
       "\n",
       "        <table>\n",
       "            <tr>\n",
       "                <td><strong>Reaction identifier</strong></td><td>LYSt3r</td>\n",
       "            </tr><tr>\n",
       "                <td><strong>Name</strong></td><td>L lysine transport out via proton antiport reversible</td>\n",
       "            </tr><tr>\n",
       "                <td><strong>Memory address</strong></td>\n",
       "                <td>0x26d91e6dca0</td>\n",
       "            </tr><tr>\n",
       "                <td><strong>Stoichiometry</strong></td>\n",
       "                <td>\n",
       "                    <p style='text-align:right'>h_e + lys__L_c --> h_c + lys__L_e</p>\n",
       "                    <p style='text-align:right'>H+ + L-Lysine --> H+ + L-Lysine</p>\n",
       "                </td>\n",
       "            </tr><tr>\n",
       "                <td><strong>GPR</strong></td><td>Mbar_A2583 or Mbar_A3244</td>\n",
       "            </tr><tr>\n",
       "                <td><strong>Lower bound</strong></td><td>0</td>\n",
       "            </tr><tr>\n",
       "                <td><strong>Upper bound</strong></td><td>1000</td>\n",
       "            </tr>\n",
       "        </table>\n",
       "        "
      ],
      "text/plain": [
       "<Reaction LYSt3r at 0x26d91e6dca0>"
      ]
     },
     "execution_count": 22,
     "metadata": {},
     "output_type": "execute_result"
    }
   ],
   "source": [
    "model.reactions.LYSt3r"
   ]
  },
  {
   "cell_type": "markdown",
   "id": "e198ee6b",
   "metadata": {},
   "source": [
    "#### Testing"
   ]
  },
  {
   "cell_type": "code",
   "execution_count": 25,
   "id": "d3f098f9",
   "metadata": {},
   "outputs": [
    {
     "name": "stdout",
     "output_type": "stream",
     "text": [
      "Growth: 0.0 [1/h]\n",
      "Lysine: 9.433333 [mmol/gDW*h]\n"
     ]
    }
   ],
   "source": [
    "model.objective = model.reactions.DAPDC\n",
    "solution = model.optimize()\n",
    "\n",
    "print(f\"Growth: {round(solution['Growth'], 6)} [1/h]\")\n",
    "print(f\"Lysine: {round(solution['DAPDC'], 6)} [mmol/gDW*h]\")"
   ]
  },
  {
   "cell_type": "markdown",
   "id": "8e18b37a",
   "metadata": {},
   "source": [
    "**Adding the lysine export reaction have solved the issue encounetred with model before.** \n",
    "\n",
    "Now, when optimizing with the objective function set to lysine production, the growth equals to zero (which is what expected)"
   ]
  },
  {
   "cell_type": "markdown",
   "id": "50a842be",
   "metadata": {},
   "source": [
    "## Saving the new model"
   ]
  },
  {
   "cell_type": "code",
   "execution_count": 26,
   "id": "b80c18f2",
   "metadata": {},
   "outputs": [],
   "source": [
    "from cobra.io import write_sbml_model\n",
    "\n",
    "write_sbml_model(model, 'Files/iCGB21FR_updated.xml')"
   ]
  }
 ],
 "metadata": {
  "kernelspec": {
   "display_name": "Python 3",
   "language": "python",
   "name": "python3"
  },
  "language_info": {
   "codemirror_mode": {
    "name": "ipython",
    "version": 3
   },
   "file_extension": ".py",
   "mimetype": "text/x-python",
   "name": "python",
   "nbconvert_exporter": "python",
   "pygments_lexer": "ipython3",
   "version": "3.8.8"
  }
 },
 "nbformat": 4,
 "nbformat_minor": 5
}
